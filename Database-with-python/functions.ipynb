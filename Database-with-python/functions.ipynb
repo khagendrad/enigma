{
 "cells": [
  {
   "cell_type": "markdown",
   "metadata": {},
   "source": [
    "## 2079-3-23\n",
    "# functions"
   ]
  },
  {
   "cell_type": "markdown",
   "metadata": {},
   "source": [
    "* pre-defined \n",
    "functions defined by python.\n",
    "* user-defined\n",
    "functions defined by user.\n",
    "\n"
   ]
  },
  {
   "cell_type": "code",
   "execution_count": 1,
   "metadata": {},
   "outputs": [
    {
     "name": "stdout",
     "output_type": "stream",
     "text": [
      "area of rectagle:20\n"
     ]
    }
   ],
   "source": [
    "# syntax\n",
    "# def <function_name>:\n",
    "#     something =operations \n",
    "#     return something \n",
    "# <function_name> \n",
    "\n",
    "def cal():\n",
    "    l = int(input(\"length\")) #local variable, declared inside function \n",
    "    b = int(input(\"breadth\"))\n",
    "    a = l*b\n",
    "    return a\n",
    "print(f\"area of rectagle:{cal()} meter square\")"
   ]
  },
  {
   "cell_type": "code",
   "execution_count": 2,
   "metadata": {},
   "outputs": [
    {
     "name": "stdout",
     "output_type": "stream",
     "text": [
      "area of rectagle:2 meter square\n"
     ]
    }
   ],
   "source": [
    "def cal():\n",
    "    # l = int(input(\"length\")) #local variable, declared inside function \n",
    "    # b = int(input(\"breadth\"))\n",
    "    a = l*b\n",
    "    return a\n",
    "l = int(input(\"length\")) #global variable, declared outside function \n",
    "b = int(input(\"breadth\"))\n",
    "print(f\"area of rectagle:{cal()} meter square\")"
   ]
  },
  {
   "cell_type": "markdown",
   "metadata": {},
   "source": [
    "Types of functions:\n",
    "* function without any argument and no return type\n",
    "* function with argument and no return type \n",
    "* function without arguemt and return type\n",
    "* funciton with argument and return type"
   ]
  },
  {
   "cell_type": "code",
   "execution_count": 4,
   "metadata": {},
   "outputs": [
    {
     "name": "stdout",
     "output_type": "stream",
     "text": [
      "42\n"
     ]
    }
   ],
   "source": [
    "# function with argument and no return type\n",
    "def cal(l,b): #param\n",
    "    a = l*b\n",
    "    print(a)\n",
    "x,y=6,7\n",
    "cal(x,y) # arguments\n"
   ]
  },
  {
   "cell_type": "code",
   "execution_count": 5,
   "metadata": {},
   "outputs": [
    {
     "data": {
      "text/plain": [
       "('kd', 23, 'surkhet')"
      ]
     },
     "execution_count": 5,
     "metadata": {},
     "output_type": "execute_result"
    }
   ],
   "source": [
    "# function with argument and return type\n",
    "def info(n,a,add):\n",
    "    return n,a,add\n",
    "info('kd',23,'surkhet')"
   ]
  },
  {
   "cell_type": "code",
   "execution_count": 9,
   "metadata": {},
   "outputs": [
    {
     "data": {
      "text/plain": [
       "'Hello'"
      ]
     },
     "execution_count": 9,
     "metadata": {},
     "output_type": "execute_result"
    }
   ],
   "source": [
    "def intro(lang  = \"python\"):\n",
    "    return lang \n",
    "\n",
    "intro('kd')\n",
    "intro(\"Hello\")\n",
    "# intro()"
   ]
  },
  {
   "cell_type": "code",
   "execution_count": 11,
   "metadata": {},
   "outputs": [
    {
     "name": "stdout",
     "output_type": "stream",
     "text": [
      "nepal\n",
      "kathmandu\n"
     ]
    }
   ],
   "source": [
    "def hello(y):\n",
    "    return y\n",
    "x='nepal'\n",
    "z = 'kathmandu'\n",
    "print(hello(x))\n",
    "print(hello(z))"
   ]
  },
  {
   "cell_type": "code",
   "execution_count": 17,
   "metadata": {},
   "outputs": [
    {
     "data": {
      "text/plain": [
       "(2, 6)"
      ]
     },
     "execution_count": 17,
     "metadata": {},
     "output_type": "execute_result"
    }
   ],
   "source": [
    "def calcu(x,y,z):\n",
    "    a = x*y\n",
    "    v = a*z\n",
    "    return a,v\n",
    "calcu(1,2,3)\n"
   ]
  },
  {
   "cell_type": "code",
   "execution_count": 18,
   "metadata": {},
   "outputs": [
    {
     "name": "stdout",
     "output_type": "stream",
     "text": [
      "6\n",
      "24\n"
     ]
    }
   ],
   "source": [
    "area, volume = calcu(2,3,4)\n",
    "print(area)\n",
    "print(volume)"
   ]
  },
  {
   "cell_type": "code",
   "execution_count": 28,
   "metadata": {},
   "outputs": [
    {
     "data": {
      "text/plain": [
       "24"
      ]
     },
     "execution_count": 28,
     "metadata": {},
     "output_type": "execute_result"
    }
   ],
   "source": [
    "#factorial\n",
    "def fact(x):\n",
    "    if x == 1:\n",
    "        return 1\n",
    "    else:\n",
    "        n = x*fact(x-1)\n",
    "        return n \n",
    "fact(4)"
   ]
  },
  {
   "cell_type": "code",
   "execution_count": 33,
   "metadata": {},
   "outputs": [
    {
     "name": "stdout",
     "output_type": "stream",
     "text": [
      "1\n",
      "1\n",
      "2\n",
      "3\n",
      "5\n",
      "8\n",
      "13\n",
      "21\n",
      "34\n",
      "55\n",
      "89\n"
     ]
    },
    {
     "data": {
      "text/plain": [
       "89"
      ]
     },
     "execution_count": 33,
     "metadata": {},
     "output_type": "execute_result"
    }
   ],
   "source": [
    "#fibonacci using recursion\n",
    "def fib(n):\n",
    "    if n<=1:\n",
    "        return 1\n",
    "    else:\n",
    "        return fib(n-1)+fib(n-2)\n",
    "terms = 10\n",
    "if terms<=0:\n",
    "    print(\"enter positive number:\")\n",
    "else:\n",
    "    for i in range(terms+1):\n",
    "        print(fib(i))\n",
    "fib(10)"
   ]
  }
 ],
 "metadata": {
  "kernelspec": {
   "display_name": "Python 3.10.5 64-bit",
   "language": "python",
   "name": "python3"
  },
  "language_info": {
   "codemirror_mode": {
    "name": "ipython",
    "version": 3
   },
   "file_extension": ".py",
   "mimetype": "text/x-python",
   "name": "python",
   "nbconvert_exporter": "python",
   "pygments_lexer": "ipython3",
   "version": "3.10.5"
  },
  "orig_nbformat": 4,
  "vscode": {
   "interpreter": {
    "hash": "916dbcbb3f70747c44a77c7bcd40155683ae19c65e1c03b4aa3499c5328201f1"
   }
  }
 },
 "nbformat": 4,
 "nbformat_minor": 2
}
