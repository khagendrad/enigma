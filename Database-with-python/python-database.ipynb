{
 "cells": [
  {
   "cell_type": "code",
   "execution_count": 22,
   "metadata": {},
   "outputs": [],
   "source": [
    "from postgres_python_conn import connector"
   ]
  },
  {
   "cell_type": "code",
   "execution_count": 5,
   "metadata": {},
   "outputs": [],
   "source": [
    "create_script = '''\n",
    "    CREATE TABLE IF NOT EXISTS employee(\n",
    "        id int PRIMARY KEY,\n",
    "        name varchar(40) NOT NULL,\n",
    "        salary int,\n",
    "        dept_id varchar(30)\n",
    "        \n",
    "    )\n",
    "'''"
   ]
  },
  {
   "cell_type": "code",
   "execution_count": 4,
   "metadata": {},
   "outputs": [],
   "source": [
    "delete_script = \"\"\"\n",
    "        DROP TABLE employe;\n",
    "\"\"\""
   ]
  },
  {
   "cell_type": "code",
   "execution_count": 32,
   "metadata": {},
   "outputs": [],
   "source": [
    "read_script = \"\"\"\n",
    "select * from student_marks;\n",
    "\"\"\""
   ]
  },
  {
   "cell_type": "code",
   "execution_count": 28,
   "metadata": {},
   "outputs": [
    {
     "name": "stdout",
     "output_type": "stream",
     "text": [
      "Server connected!\n"
     ]
    }
   ],
   "source": [
    "# from postgres_python_conn import connector as conn\n",
    "\n",
    "cur = None\n",
    "conn = None\n",
    "try: \n",
    "    conn = connector()\n",
    "    print(\"Server connected!\")\n",
    "    cur = conn.cursor()\n",
    "\n",
    "    # cur.execute(create_script)\n",
    "    # success =conn.commit()\n",
    "    # if success:\n",
    "    #     print(\"Database Sucessfully created.\")\n",
    "    # else:\n",
    "    #     print(\"Database alrealy found.\")\n",
    "    # cur.execute(delete_script)\n",
    "    # conn.commit()\n",
    "except Exception as e:\n",
    "    print('error encountered!',e)\n",
    "# finally:\n",
    "#     if conn is not None:\n",
    "#         conn.close()\n",
    "#     if cur is not None:\n",
    "#         cur.close()\n",
    "\n",
    "\n",
    "\n"
   ]
  },
  {
   "cell_type": "code",
   "execution_count": 26,
   "metadata": {},
   "outputs": [],
   "source": [
    "cur.close()\n",
    "conn.close()"
   ]
  },
  {
   "cell_type": "code",
   "execution_count": 34,
   "metadata": {},
   "outputs": [],
   "source": [
    "delete_item=\"\"\" \n",
    "delete from student_marks where id=6;\n",
    "\"\"\""
   ]
  },
  {
   "cell_type": "code",
   "execution_count": 36,
   "metadata": {},
   "outputs": [],
   "source": [
    "cur.execute(delete_item)\n",
    "conn.commit()"
   ]
  },
  {
   "cell_type": "code",
   "execution_count": 37,
   "metadata": {},
   "outputs": [
    {
     "name": "stdout",
     "output_type": "stream",
     "text": [
      "(4, 'kd', 50, 50, 50, 50, 200, 50.0)\n",
      "(2, 'mo', 50, 50, 50, 50, 200, 50.0)\n",
      "(5, 'kd', 50, 50, 50, 50, 200, 50.0)\n"
     ]
    }
   ],
   "source": [
    "cur.execute(read_script)\n",
    "data =cur.fetchall()\n",
    "for row in data:\n",
    "    print(row)\n"
   ]
  },
  {
   "cell_type": "code",
   "execution_count": 29,
   "metadata": {},
   "outputs": [],
   "source": [
    "insert_data = \"\"\" \n",
    "insert into student_marks(name,physics,chemistry,math,english,total,percentage) values('kd',50,50,50,50,200,50)\n",
    "\"\"\""
   ]
  },
  {
   "cell_type": "code",
   "execution_count": 31,
   "metadata": {},
   "outputs": [],
   "source": [
    "cur.execute(insert_data)\n",
    "conn.commit()"
   ]
  }
 ],
 "metadata": {
  "kernelspec": {
   "display_name": "Python 3.10.5 64-bit",
   "language": "python",
   "name": "python3"
  },
  "language_info": {
   "codemirror_mode": {
    "name": "ipython",
    "version": 3
   },
   "file_extension": ".py",
   "mimetype": "text/x-python",
   "name": "python",
   "nbconvert_exporter": "python",
   "pygments_lexer": "ipython3",
   "version": "3.10.5"
  },
  "orig_nbformat": 4,
  "vscode": {
   "interpreter": {
    "hash": "916dbcbb3f70747c44a77c7bcd40155683ae19c65e1c03b4aa3499c5328201f1"
   }
  }
 },
 "nbformat": 4,
 "nbformat_minor": 2
}
