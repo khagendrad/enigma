{
 "cells": [
  {
   "cell_type": "markdown",
   "metadata": {},
   "source": [
    "# python dictionary \n",
    "### 2079-03-16"
   ]
  },
  {
   "cell_type": "markdown",
   "metadata": {},
   "source": [
    "#### features \n",
    "* indexed \n",
    "* ordered \n",
    "* contains key:pair \n",
    "* contains multiple values \n",
    "* mutable \n",
    "* if there is duplicate key, value will be replaced by later value of key\n"
   ]
  },
  {
   "cell_type": "code",
   "execution_count": 1,
   "metadata": {},
   "outputs": [
    {
     "name": "stdout",
     "output_type": "stream",
     "text": [
      "<class 'dict'>\n"
     ]
    }
   ],
   "source": [
    "dic = {}\n",
    "print(type(dic))"
   ]
  },
  {
   "cell_type": "markdown",
   "metadata": {},
   "source": [
    "### methods in dictionary \n",
    "* clear()--Removes all the elements from the dictionary\n",
    "* copy()\t--Returns a copy of the dictionary\n",
    "* fromkeys()\t--Returns a dictionary with the specified keys and value\n",
    "* get()\t--Returns the value of the specified key\n",
    "* items()\t--Returns a list containing a tuple for each key value pair\n",
    "* keys()\t--Returns a list containing the dictionary's keys\n",
    "* pop()\t--Removes the element with the specified key\n",
    "* popitem()--\tRemoves the last inserted key-value pair\n",
    "* setdefault()\t--Returns the value of the specified key. If the key does not exist: insert the key, with the specified value\n",
    "* update()\t--Updates the dictionary with the specified key-value pairs\n",
    "* values()\t--Returns a list of all the values in the dictionary\n"
   ]
  },
  {
   "cell_type": "code",
   "execution_count": 4,
   "metadata": {},
   "outputs": [
    {
     "data": {
      "text/plain": [
       "'apple'"
      ]
     },
     "execution_count": 4,
     "metadata": {},
     "output_type": "execute_result"
    }
   ],
   "source": [
    "di = {\n",
    "    'a':'apple',\n",
    "    'b':'ball',\n",
    "    'c':'cat',\n",
    "    'd':123,\n",
    "}\n",
    "di.get('a')"
   ]
  },
  {
   "cell_type": "code",
   "execution_count": 5,
   "metadata": {},
   "outputs": [
    {
     "data": {
      "text/plain": [
       "'APPLE'"
      ]
     },
     "execution_count": 5,
     "metadata": {},
     "output_type": "execute_result"
    }
   ],
   "source": [
    "di = {\n",
    "    'a':'apple',\n",
    "    'b':'ball',\n",
    "    'c':'cat',\n",
    "    'd':123,\n",
    "    'a':'APPLE'\n",
    "}\n",
    "di.get('a')"
   ]
  },
  {
   "cell_type": "code",
   "execution_count": 8,
   "metadata": {},
   "outputs": [
    {
     "data": {
      "text/plain": [
       "{'e': 'elephant', 'f': 'fish', 'g': 'ghost'}"
      ]
     },
     "execution_count": 8,
     "metadata": {},
     "output_type": "execute_result"
    }
   ],
   "source": [
    "di = {\n",
    "    'a':'apple',\n",
    "    'b':{\n",
    "        'e':'elephant',\n",
    "        'f':'fish',\n",
    "        'g':'ghost'\n",
    "    },\n",
    "    'c':'cat',\n",
    "    'd':123,\n",
    "    'a':'APPLE'\n",
    "}\n",
    "di.get('b')"
   ]
  },
  {
   "cell_type": "code",
   "execution_count": 9,
   "metadata": {},
   "outputs": [
    {
     "name": "stdout",
     "output_type": "stream",
     "text": [
      "{'khagendra': 12345, 'khagen': 123456}\n"
     ]
    }
   ],
   "source": [
    "dicti = {}\n",
    "n = int(input(\"enter how many keys you want:\"))\n",
    "for i in range(n):\n",
    "    name = input('name:')\n",
    "    phone = int(input(\"enter phone\"))\n",
    "    dicti[name]=phone\n",
    "print(dicti)"
   ]
  },
  {
   "cell_type": "code",
   "execution_count": 13,
   "metadata": {},
   "outputs": [
    {
     "name": "stdout",
     "output_type": "stream",
     "text": [
      "12345\n",
      "123456\n"
     ]
    }
   ],
   "source": [
    "for item in dicti.values():\n",
    "    print(item)"
   ]
  },
  {
   "cell_type": "code",
   "execution_count": 14,
   "metadata": {},
   "outputs": [
    {
     "name": "stdout",
     "output_type": "stream",
     "text": [
      "('khagendra', 12345)\n",
      "('khagen', 123456)\n"
     ]
    }
   ],
   "source": [
    "for item in dicti.items():\n",
    "    print(item)"
   ]
  },
  {
   "cell_type": "code",
   "execution_count": 15,
   "metadata": {},
   "outputs": [
    {
     "name": "stdout",
     "output_type": "stream",
     "text": [
      "khagendra\n",
      "khagen\n"
     ]
    }
   ],
   "source": [
    "for item in dicti.keys():\n",
    "    print(item)"
   ]
  },
  {
   "cell_type": "code",
   "execution_count": 17,
   "metadata": {},
   "outputs": [
    {
     "name": "stdout",
     "output_type": "stream",
     "text": [
      "[('khagendra', 12345), ('khagen', 123456)]\n",
      "{'khagendra': 12345, 'khagen': 123456}\n"
     ]
    }
   ],
   "source": [
    "#dict into list and list into dict\n",
    "l=[]\n",
    "for item in dicti.items():\n",
    "    l.append(item)\n",
    "print(l)\n",
    "print(dict(l))\n"
   ]
  },
  {
   "cell_type": "code",
   "execution_count": 21,
   "metadata": {},
   "outputs": [
    {
     "data": {
      "text/plain": [
       "{'a': 'apple', 'b': 'bolero', 'c': 'cat', 'd': 123}"
      ]
     },
     "execution_count": 21,
     "metadata": {},
     "output_type": "execute_result"
    }
   ],
   "source": [
    "di = {\n",
    "    'a':'apple',\n",
    "    'b':'ball',\n",
    "    'c':'cat',\n",
    "    'd':123,\n",
    "    'a':'APPLE'\n",
    "}\n",
    "# di.get('a')\n",
    "di['a']='apple'\n",
    "di.update({'b':'bolero'})\n",
    "di"
   ]
  },
  {
   "cell_type": "code",
   "execution_count": 23,
   "metadata": {},
   "outputs": [
    {
     "ename": "KeyError",
     "evalue": "'d'",
     "output_type": "error",
     "traceback": [
      "\u001b[0;31m---------------------------------------------------------------------------\u001b[0m",
      "\u001b[0;31mKeyError\u001b[0m                                  Traceback (most recent call last)",
      "\u001b[0;32m/tmp/ipykernel_54957/2133300373.py\u001b[0m in \u001b[0;36m<module>\u001b[0;34m\u001b[0m\n\u001b[1;32m      1\u001b[0m \u001b[0;31m# di.pop('a')\u001b[0m\u001b[0;34m\u001b[0m\u001b[0;34m\u001b[0m\u001b[0m\n\u001b[0;32m----> 2\u001b[0;31m \u001b[0;32mdel\u001b[0m \u001b[0mdi\u001b[0m\u001b[0;34m[\u001b[0m\u001b[0;34m'd'\u001b[0m\u001b[0;34m]\u001b[0m\u001b[0;34m\u001b[0m\u001b[0;34m\u001b[0m\u001b[0m\n\u001b[0m\u001b[1;32m      3\u001b[0m \u001b[0mdi\u001b[0m\u001b[0;34m\u001b[0m\u001b[0;34m\u001b[0m\u001b[0m\n",
      "\u001b[0;31mKeyError\u001b[0m: 'd'"
     ]
    }
   ],
   "source": [
    "# di.pop('a')\n",
    "del di['d']\n"
   ]
  },
  {
   "cell_type": "code",
   "execution_count": 24,
   "metadata": {},
   "outputs": [
    {
     "data": {
      "text/plain": [
       "{'a': 'apple', 'b': 'bolero', 'c': 'cat'}"
      ]
     },
     "execution_count": 24,
     "metadata": {},
     "output_type": "execute_result"
    }
   ],
   "source": [
    "di"
   ]
  },
  {
   "cell_type": "code",
   "execution_count": 25,
   "metadata": {},
   "outputs": [
    {
     "data": {
      "text/plain": [
       "{'a': 'apple', 'b': 'bolero'}"
      ]
     },
     "execution_count": 25,
     "metadata": {},
     "output_type": "execute_result"
    }
   ],
   "source": [
    "di.popitem()\n",
    "di"
   ]
  },
  {
   "cell_type": "code",
   "execution_count": 26,
   "metadata": {},
   "outputs": [
    {
     "name": "stdout",
     "output_type": "stream",
     "text": [
      "{'ram': [9876, 98765, 1234], 'shyam': [123434, 345654]}\n"
     ]
    }
   ],
   "source": [
    "#list inside dictionary \n",
    "d = {}\n",
    "d = {'ram':[9876,98765,1234],\n",
    "    'shyam':[123434,345654]}\n",
    "print(d)"
   ]
  },
  {
   "cell_type": "code",
   "execution_count": 43,
   "metadata": {},
   "outputs": [
    {
     "name": "stdout",
     "output_type": "stream",
     "text": [
      "{'we': [34, 34], 'sf': [34, 34]}\n"
     ]
    }
   ],
   "source": [
    "dictio = {}\n",
    "n = int(input(\"enter how many keys you want:\"))\n",
    "for i in range(n):\n",
    "    name = input('name:')\n",
    "    phone = int(input(\"enter phone\"))\n",
    "    phone2 = int(input(\"enter second number\"))\n",
    "    dictio[name]=[phone, phone2]\n",
    "print(dictio)"
   ]
  },
  {
   "cell_type": "code",
   "execution_count": null,
   "metadata": {},
   "outputs": [],
   "source": [
    "#dict inside dict (nested dict)\n",
    "con={\n",
    "    'ram':{\n",
    "        'ntc':9876543,\n",
    "        'ncell':9876543\n",
    "    },\n",
    "    'shyam':{\n",
    "        'ntc':9876,\n",
    "        'ncell':98656,\n",
    "\n",
    "    }\n",
    "}"
   ]
  },
  {
   "cell_type": "code",
   "execution_count": 34,
   "metadata": {},
   "outputs": [
    {
     "name": "stdout",
     "output_type": "stream",
     "text": [
      "{'ram': {'ntc': 1234, 'ncell': 123}, 'shyam': {'ntc': 345, 'ncell': 2345}}\n"
     ]
    }
   ],
   "source": [
    "contact = {}\n",
    "n = int(input(\"enter how many keys you want:\"))\n",
    "for i in range(n):\n",
    "    name = input('name:')\n",
    "    # sim_name = input('enter sim name')\n",
    "    ntc = int(input(\"enter ntc number\"))\n",
    "    ncell = int(input(\"enter ncell number\"))\n",
    "    contact[name]={'ntc':ntc,'ncell':ncell}\n",
    "print(contact)"
   ]
  },
  {
   "cell_type": "code",
   "execution_count": 38,
   "metadata": {},
   "outputs": [
    {
     "name": "stdout",
     "output_type": "stream",
     "text": [
      "1234 123\n"
     ]
    }
   ],
   "source": [
    "contacts = {'ram': {'ntc': 1234, 'ncell': 123}, \n",
    "        'shyam': {'ntc': 345, 'ncell': 2345}}\n",
    "print(contacts['ram']['ntc'], contacts['ram']['ncell'])"
   ]
  },
  {
   "cell_type": "code",
   "execution_count": 42,
   "metadata": {},
   "outputs": [
    {
     "name": "stdout",
     "output_type": "stream",
     "text": [
      "Choose following options below: \n",
      "1.Create \n",
      "2.Read \n",
      "3.Update \n",
      "4.Delete\n",
      "Choose following options below: \n",
      "1.Create \n",
      "2.Read \n",
      "3.Update \n",
      "4.Delete\n",
      "Invalid Input! Try again.\n"
     ]
    }
   ],
   "source": [
    "\n",
    "# input - name, phone, address\n",
    "l = []\n",
    "\n",
    "while True:\n",
    "    print(\"Choose following options below: \\n1.Create \\n2.Read \\n3.Update \\n4.Delete\")\n",
    "    ch_op=input(\"Enter option 1-4:\")\n",
    "\n",
    "    if ch_op=='1':\n",
    "        # Creating dictionary here \n",
    "        n = int(input('Enter how many data you want to create'))\n",
    "        for i in range(n):\n",
    "            dicto = {}\n",
    "            name, phone, address = [input(\"enter name, phone, address\") for x in range(3)]\n",
    "            dicto['name'], dicto['phone'], dicto['address']=name, phone, address\n",
    "            l.append(dicto)\n",
    "    elif ch_op=='2':\n",
    "        #reading data \n",
    "        for i in range(len(l)):\n",
    "            all_data = f\"Name of person: {l[i]['name']}\\n Contact:{l[i]['phone']}\\nAddress:{l[i]['address']}\"\n",
    "            print(all_data)\n",
    "    elif ch_op=='3':\n",
    "        # updating values\n",
    "        option=input(\"What you wants to update: 'name', 'phone', 'address'\")\n",
    "        if option =='name':\n",
    "            name_in = input(\"enter name you want to change: \")\n",
    "            for nam in range(len(l)):\n",
    "                if name_in== l[nam]['name']:\n",
    "                    new_name =input(\"enter name you wanted to change.\")\n",
    "                    l[nam]['name']=new_name\n",
    "                    print(f\"{l[nam]['name']} is successfully replaced by {new_name} \")\n",
    "                else:\n",
    "                    print('Not found!')\n",
    "        elif option =='phone':\n",
    "            name_in = input(\"find number you want to change: \")\n",
    "            for nam in range(len(l)):\n",
    "                if name_in== l[nam]['phone']:\n",
    "                    new_phone =input(\"enter name you wanted to change.\")\n",
    "                    old_phone = l[nam]['phone']\n",
    "                    l[nam]['phone']=new_phone\n",
    "                    print(f\"{old_phone} is successfully replaced to {new_phone} \")\n",
    "                else:\n",
    "                    print('Not found!')\n",
    "        elif option =='address':\n",
    "            name_in, number_in = [input(\"find address  and number you want to change: \") for y in range(2)]\n",
    "            for nam in range(len(l)):\n",
    "                if name_in== l[nam]['address'] and number_in == l[nam]['phone']:\n",
    "                    new_address =input(\"enter address you wanted to change.\")\n",
    "                    old_add = l[nam]['address']\n",
    "                    l[nam]['address']=new_address\n",
    "                    print(f\"{old_add} is successfully replaced to {new_address} \")\n",
    "                else:\n",
    "                    print('Not found!')\n",
    "        else:\n",
    "            print(\"Invalid Input!\")\n",
    "    elif ch_op=='4':\n",
    "        names, number = [input(\"enter name and number: \") for x in range(2)]\n",
    "        f = 0\n",
    "        for el in range(len(l)):\n",
    "            if l[el]['name']==names and l[el]['phone']== number:\n",
    "                del l[el]\n",
    "                f=1\n",
    "                print(\"successfully deleted!\")\n",
    "\n",
    "        if not f:\n",
    "            print(\"The data you provided not matched to any!\")\n",
    "    else:\n",
    "        print(\"Invalid Input! Try again.\")\n",
    "        break\n"
   ]
  },
  {
   "cell_type": "code",
   "execution_count": 56,
   "metadata": {},
   "outputs": [
    {
     "name": "stdout",
     "output_type": "stream",
     "text": [
      "[{'name': 'grfwed', 'phone': '543', 'address': 'gfds'}, {'name': 'gfds', 'phone': '543', 'address': 'gfds'}]\n"
     ]
    }
   ],
   "source": [
    "\n",
    "l=[]\n",
    "# Creating dictionary here \n",
    "n = int(input('Enter how many data you want to create'))\n",
    "for i in range(n):\n",
    "    dicto = {}\n",
    "    name, phone, address = [input() for x in range(3)]\n",
    "    dicto['name'], dicto['phone'], dicto['address']=name, phone, address\n",
    "    l.append(dicto)\n",
    "print(l)"
   ]
  },
  {
   "cell_type": "code",
   "execution_count": 75,
   "metadata": {},
   "outputs": [],
   "source": [
    "l=[{'name':'khagendra','phone':'123', 'address':'surkhet'}]"
   ]
  },
  {
   "cell_type": "code",
   "execution_count": 79,
   "metadata": {},
   "outputs": [
    {
     "name": "stdout",
     "output_type": "stream",
     "text": [
      "surkhet is successfully replaced to kathmandu \n"
     ]
    }
   ],
   "source": [
    "option=input(\"What you wants to update: 'name', 'phone', 'address'\")\n",
    "if option =='address':\n",
    "    name_in, number_in = [input(\"find address  and number you want to change: \") for y in range(2)]\n",
    "    for nam in range(len(l)):\n",
    "        if name_in== l[nam]['address'] and number_in == l[nam]['phone']:\n",
    "            new_address =input(\"enter address you wanted to change.\")\n",
    "            old_add = l[nam]['address']\n",
    "            l[nam]['address']=new_address\n",
    "            print(f\"{old_add} is successfully replaced to {new_address} \")\n",
    "        else:\n",
    "            print('Not found!')"
   ]
  },
  {
   "cell_type": "code",
   "execution_count": 113,
   "metadata": {},
   "outputs": [],
   "source": [
    "l=[{'name':'khagendra','phone':'123', 'address':'surkhet'},{'name':'kd','phone':'12', 'address':'surkhet'}]"
   ]
  },
  {
   "cell_type": "code",
   "execution_count": 120,
   "metadata": {},
   "outputs": [
    {
     "name": "stdout",
     "output_type": "stream",
     "text": [
      "The data you provided not matched to any!\n"
     ]
    }
   ],
   "source": [
    "names, number = [input(\"enter name and number: \") for x in range(2)]\n",
    "f = 0\n",
    "for el in range(len(l)):\n",
    "    if l[el]['name']==names and l[el]['phone']== number:\n",
    "        del l[el]\n",
    "        f=1\n",
    "        print(\"successfully deleted!\")\n",
    "\n",
    "if not f:\n",
    "    print(\"The data you provided not matched to any!\")"
   ]
  },
  {
   "cell_type": "code",
   "execution_count": 116,
   "metadata": {},
   "outputs": [
    {
     "name": "stdout",
     "output_type": "stream",
     "text": [
      "[{'name': 'khagendra', 'phone': '123', 'address': 'surkhet'}, {'name': 'kd', 'phone': '12', 'address': 'surkhet'}]\n"
     ]
    }
   ],
   "source": [
    "print(l)"
   ]
  },
  {
   "cell_type": "code",
   "execution_count": 118,
   "metadata": {},
   "outputs": [
    {
     "name": "stdout",
     "output_type": "stream",
     "text": [
      "not found\n"
     ]
    }
   ],
   "source": [
    "names, number = [input(\"enter name and number: \") for x in range(2)]\n",
    "if names in l[el] and number in l[el]:\n",
    "        del l[el]\n",
    "        print(\"successfully deleted!\")\n",
    "\n",
    "else:\n",
    "    print(\"not found\")"
   ]
  }
 ],
 "metadata": {
  "kernelspec": {
   "display_name": "Python 3.10.4 64-bit",
   "language": "python",
   "name": "python3"
  },
  "language_info": {
   "codemirror_mode": {
    "name": "ipython",
    "version": 3
   },
   "file_extension": ".py",
   "mimetype": "text/x-python",
   "name": "python",
   "nbconvert_exporter": "python",
   "pygments_lexer": "ipython3",
   "version": "3.10.4"
  },
  "orig_nbformat": 4,
  "vscode": {
   "interpreter": {
    "hash": "916dbcbb3f70747c44a77c7bcd40155683ae19c65e1c03b4aa3499c5328201f1"
   }
  }
 },
 "nbformat": 4,
 "nbformat_minor": 2
}
