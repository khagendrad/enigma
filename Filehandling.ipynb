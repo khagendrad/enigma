{
 "cells": [
  {
   "cell_type": "markdown",
   "metadata": {},
   "source": [
    "## 2079-03-17\n",
    "### File handling "
   ]
  },
  {
   "cell_type": "code",
   "execution_count": null,
   "metadata": {},
   "outputs": [],
   "source": [
    "# file = open('filename',modes) \n",
    "# file.close()\n"
   ]
  },
  {
   "cell_type": "markdown",
   "metadata": {},
   "source": [
    "### Modes in file handling \n",
    "* r-->read \n",
    "* w --> write \n",
    "* a --> append\n",
    "* x--> create "
   ]
  },
  {
   "cell_type": "code",
   "execution_count": null,
   "metadata": {},
   "outputs": [],
   "source": [
    "# with open (filename, mode) as f:\n",
    "#     Operations \n",
    "# f.close()"
   ]
  },
  {
   "cell_type": "code",
   "execution_count": 2,
   "metadata": {},
   "outputs": [
    {
     "name": "stdout",
     "output_type": "stream",
     "text": [
      "File already exist.\n"
     ]
    }
   ],
   "source": [
    "try:\n",
    "    b = open('data.txt','x')\n",
    "    b.close()\n",
    "except:\n",
    "    print(\"File already exist.\")"
   ]
  },
  {
   "cell_type": "code",
   "execution_count": 5,
   "metadata": {},
   "outputs": [
    {
     "name": "stdout",
     "output_type": "stream",
     "text": [
      "1.Hello Nepal\n",
      "2. Hello World \n",
      "3. Hello Solar system \n",
      "4. Hello Galaxy \n",
      "5. Hello Universe\n"
     ]
    }
   ],
   "source": [
    "b = open('data.txt','r')\n",
    "x = b.read()\n",
    "print(x)\n",
    "b.close()"
   ]
  },
  {
   "cell_type": "code",
   "execution_count": 6,
   "metadata": {},
   "outputs": [
    {
     "data": {
      "text/plain": [
       "str"
      ]
     },
     "execution_count": 6,
     "metadata": {},
     "output_type": "execute_result"
    }
   ],
   "source": [
    "type(x)"
   ]
  },
  {
   "cell_type": "code",
   "execution_count": 9,
   "metadata": {},
   "outputs": [],
   "source": [
    "y = x.split('\\n')\n"
   ]
  },
  {
   "cell_type": "code",
   "execution_count": 10,
   "metadata": {},
   "outputs": [
    {
     "data": {
      "text/plain": [
       "'1.Hello Nepal'"
      ]
     },
     "execution_count": 10,
     "metadata": {},
     "output_type": "execute_result"
    }
   ],
   "source": [
    "line = int(input(\"enter line\"))\n",
    "y[line-1]\n"
   ]
  },
  {
   "cell_type": "code",
   "execution_count": 11,
   "metadata": {},
   "outputs": [],
   "source": [
    "c = open('data1.txt','w')\n",
    "t = 'I am python, written from environment.'\n",
    "c.write(t)\n",
    "c.close()"
   ]
  },
  {
   "cell_type": "code",
   "execution_count": 12,
   "metadata": {},
   "outputs": [
    {
     "name": "stdout",
     "output_type": "stream",
     "text": [
      "I am python, written from environment.\n"
     ]
    }
   ],
   "source": [
    "d = open('data1.txt','r')\n",
    "z = d.read()\n",
    "print(z)\n",
    "d.close()"
   ]
  },
  {
   "cell_type": "code",
   "execution_count": 14,
   "metadata": {},
   "outputs": [],
   "source": [
    "## Billing system using file handling \n",
    "bill = str()\n",
    "n = int(input(\"enter no. of data you want to store\"))\n",
    "for i in range(n):\n",
    "    name = input('Enter name')\n",
    "    price= int(input(\"enter price\"))\n",
    "    quantity = int(input(\"enter quantity\"))\n",
    "    total = price*quantity\n",
    "    data  = f'{name}, {price}, {quantity}= {total}\\n'\n",
    "    bill +=data \n",
    "\n",
    "b = open('bill.txt','a')\n",
    "b.write(bill)\n",
    "b.close()\n",
    "\n"
   ]
  },
  {
   "cell_type": "code",
   "execution_count": 15,
   "metadata": {},
   "outputs": [],
   "source": [
    "b = open('bill.txt','r')\n",
    "y = b.read()\n",
    "b.close()"
   ]
  },
  {
   "cell_type": "code",
   "execution_count": 20,
   "metadata": {},
   "outputs": [
    {
     "name": "stdout",
     "output_type": "stream",
     "text": [
      "['laptop,', '50000,', '5=', '250000']\n",
      "['mobile,', '8000,', '4=', '32000']\n"
     ]
    }
   ],
   "source": [
    "data =y.split('\\n')[0:-1]\n",
    "for i in data:\n",
    "    print(i.split())\n"
   ]
  },
  {
   "cell_type": "code",
   "execution_count": 21,
   "metadata": {},
   "outputs": [
    {
     "name": "stdout",
     "output_type": "stream",
     "text": [
      "[['laptop,', '50000,', '5=', '250000'], ['mobile,', '8000,', '4=', '32000']]\n"
     ]
    }
   ],
   "source": [
    "final_data = []\n",
    "for i in data:\n",
    "    y = i.split()\n",
    "    final_data.append(y)\n",
    "print(final_data)"
   ]
  },
  {
   "cell_type": "code",
   "execution_count": 24,
   "metadata": {},
   "outputs": [
    {
     "name": "stdout",
     "output_type": "stream",
     "text": [
      "282000\n"
     ]
    }
   ],
   "source": [
    "total_amount = 0\n",
    "for item in final_data:\n",
    "    # ite = item[3]\n",
    "    total_amount+=int(item[-1])\n",
    "print(total_amount)"
   ]
  },
  {
   "cell_type": "code",
   "execution_count": 34,
   "metadata": {},
   "outputs": [],
   "source": [
    "bill = str()\n",
    "n = int(input(\"enter no. of data you want to store\"))\n",
    "for i in range(n):\n",
    "    name = input('Enter name')\n",
    "    price= int(input(\"enter price\"))\n",
    "    quantity = int(input(\"enter quantity\"))\n",
    "    total = price*quantity\n",
    "    data  = f'{name},{price},{quantity},{total}\\n'\n",
    "    bill +=data \n",
    "\n",
    "b = open('bill.csv','a')\n",
    "b.write('Name,Price,Quantity,Total\\n')\n",
    "b.write(bill)\n",
    "b.close()"
   ]
  },
  {
   "cell_type": "code",
   "execution_count": 35,
   "metadata": {},
   "outputs": [
    {
     "data": {
      "text/html": [
       "<div>\n",
       "<style scoped>\n",
       "    .dataframe tbody tr th:only-of-type {\n",
       "        vertical-align: middle;\n",
       "    }\n",
       "\n",
       "    .dataframe tbody tr th {\n",
       "        vertical-align: top;\n",
       "    }\n",
       "\n",
       "    .dataframe thead th {\n",
       "        text-align: right;\n",
       "    }\n",
       "</style>\n",
       "<table border=\"1\" class=\"dataframe\">\n",
       "  <thead>\n",
       "    <tr style=\"text-align: right;\">\n",
       "      <th></th>\n",
       "      <th>Name</th>\n",
       "      <th>Price</th>\n",
       "      <th>Quantity</th>\n",
       "      <th>Total</th>\n",
       "    </tr>\n",
       "  </thead>\n",
       "  <tbody>\n",
       "    <tr>\n",
       "      <th>0</th>\n",
       "      <td>laptop</td>\n",
       "      <td>45000</td>\n",
       "      <td>5</td>\n",
       "      <td>225000</td>\n",
       "    </tr>\n",
       "    <tr>\n",
       "      <th>1</th>\n",
       "      <td>mobile</td>\n",
       "      <td>4500</td>\n",
       "      <td>5</td>\n",
       "      <td>22500</td>\n",
       "    </tr>\n",
       "  </tbody>\n",
       "</table>\n",
       "</div>"
      ],
      "text/plain": [
       "     Name  Price  Quantity   Total\n",
       "0  laptop  45000         5  225000\n",
       "1  mobile   4500         5   22500"
      ]
     },
     "execution_count": 35,
     "metadata": {},
     "output_type": "execute_result"
    }
   ],
   "source": [
    "import pandas as pd \n",
    "data = pd.read_csv('bill.csv')\n",
    "data"
   ]
  },
  {
   "cell_type": "code",
   "execution_count": 37,
   "metadata": {},
   "outputs": [
    {
     "name": "stdout",
     "output_type": "stream",
     "text": [
      "File not available.\n"
     ]
    }
   ],
   "source": [
    "import os \n",
    "try:\n",
    "    os.remove('bill.txt')\n",
    "except:\n",
    "    print(\"File not available.\")"
   ]
  },
  {
   "cell_type": "code",
   "execution_count": 38,
   "metadata": {},
   "outputs": [
    {
     "data": {
      "text/plain": [
       "'/home/lucifer/Desktop/Broadway Infosys Classes/python/Class-Codes'"
      ]
     },
     "execution_count": 38,
     "metadata": {},
     "output_type": "execute_result"
    }
   ],
   "source": [
    "pwd"
   ]
  },
  {
   "cell_type": "code",
   "execution_count": 48,
   "metadata": {},
   "outputs": [
    {
     "data": {
      "text/plain": [
       "'/home/lucifer/Desktop/data.txt'"
      ]
     },
     "execution_count": 48,
     "metadata": {},
     "output_type": "execute_result"
    }
   ],
   "source": [
    "import shutil as sh\n",
    "\n",
    "sh.copy('data.txt','/home/lucifer/Desktop'\n",
    ")"
   ]
  },
  {
   "cell_type": "code",
   "execution_count": 47,
   "metadata": {},
   "outputs": [
    {
     "data": {
      "text/plain": [
       "'/home/lucifer/Desktop/Broadway Infosys Classes/python/Class-Codes/data.txt'"
      ]
     },
     "execution_count": 47,
     "metadata": {},
     "output_type": "execute_result"
    }
   ],
   "source": [
    "import shutil as sh\n",
    "\n",
    "sh.copy('/home/lucifer/Desktop/data.txt','/home/lucifer/Desktop/Broadway Infosys Classes/python/Class-Codes'\n",
    ")"
   ]
  }
 ],
 "metadata": {
  "kernelspec": {
   "display_name": "Python 3.10.4 64-bit",
   "language": "python",
   "name": "python3"
  },
  "language_info": {
   "codemirror_mode": {
    "name": "ipython",
    "version": 3
   },
   "file_extension": ".py",
   "mimetype": "text/x-python",
   "name": "python",
   "nbconvert_exporter": "python",
   "pygments_lexer": "ipython3",
   "version": "3.10.5"
  },
  "orig_nbformat": 4,
  "vscode": {
   "interpreter": {
    "hash": "916dbcbb3f70747c44a77c7bcd40155683ae19c65e1c03b4aa3499c5328201f1"
   }
  }
 },
 "nbformat": 4,
 "nbformat_minor": 2
}
