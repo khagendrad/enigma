{
 "cells": [
  {
   "cell_type": "markdown",
   "metadata": {},
   "source": [
    "### IF-Else Statement "
   ]
  },
  {
   "cell_type": "markdown",
   "metadata": {},
   "source": [
    "Conditional Statement, it consist of two part- if and else. if part contains condition, if condition meets then if statement( part) executes otherwise else part will execute.<br>\n",
    "syntax:<br> \n",
    "if(codition):<br>\n",
    "    ---statements---<br>\n",
    "else:<br>\n",
    "    ---statements----"
   ]
  },
  {
   "cell_type": "code",
   "execution_count": 1,
   "metadata": {},
   "outputs": [
    {
     "name": "stdout",
     "output_type": "stream",
     "text": [
      "True\n"
     ]
    }
   ],
   "source": [
    "a = 10 \n",
    "b= 10\n",
    "print(a<=b)\n"
   ]
  },
  {
   "cell_type": "code",
   "execution_count": 11,
   "metadata": {},
   "outputs": [
    {
     "name": "stdout",
     "output_type": "stream",
     "text": [
      "greater than 0\n"
     ]
    }
   ],
   "source": [
    "a = int(input(\"enter any number:\"))\n",
    "if a<0:\n",
    "    print(\"less than 0\")\n",
    "else:\n",
    "    print('greater than 0')"
   ]
  },
  {
   "cell_type": "code",
   "execution_count": null,
   "metadata": {},
   "outputs": [
    {
     "name": "stdout",
     "output_type": "stream",
     "text": [
      "number is odd \n"
     ]
    }
   ],
   "source": [
    "b=int(input(\"Enter number:\"))\n",
    "if a%2==0:\n",
    "    print(\"gven number is even\")\n",
    "else:\n",
    "    print(\"number is odd \")"
   ]
  },
  {
   "cell_type": "markdown",
   "metadata": {},
   "source": [
    "## 2079-03-06\n"
   ]
  },
  {
   "cell_type": "markdown",
   "metadata": {},
   "source": [
    "Nested loop is <code> if-else </code> condition inside the <code>if-else</code> block."
   ]
  },
  {
   "cell_type": "code",
   "execution_count": 6,
   "metadata": {},
   "outputs": [
    {
     "name": "stdout",
     "output_type": "stream",
     "text": [
      "number is greater than 100\n",
      "number is greater than 200\n",
      "number is less than 500\n"
     ]
    }
   ],
   "source": [
    "num = int(input(\"enter number:\"))\n",
    "if num>100:\n",
    "    print(\"number is greater than 100\")\n",
    "    if num>200:\n",
    "        print(\"number is greater than 200\")\n",
    "        if num>500:\n",
    "            print(\"number is greater than 500\")\n",
    "        else:\n",
    "            print(\"number is less than 500\")\n",
    "    else:\n",
    "        print(\"number is less than 200\")\n",
    "    \n",
    "else:\n",
    "    if num>50:\n",
    "        print(\"number is less than 100 but greater than 50\")\n",
    "    else:\n",
    "        print(\"number is less than 50 \")\n"
   ]
  },
  {
   "cell_type": "markdown",
   "metadata": {},
   "source": [
    "## For loops "
   ]
  },
  {
   "cell_type": "markdown",
   "metadata": {},
   "source": [
    "we can use loop in three diferent ways:\n",
    "* <code >range(len)</code>--> start from 0\n",
    "* <code>range(start, end)</code> --> starts from start, ends before end val.\n",
    "* <code>range(start, end, step)</code>"
   ]
  },
  {
   "cell_type": "code",
   "execution_count": 9,
   "metadata": {},
   "outputs": [
    {
     "name": "stdout",
     "output_type": "stream",
     "text": [
      "8 * 1 = 8\n",
      "8 * 2 = 16\n",
      "8 * 3 = 24\n",
      "8 * 4 = 32\n",
      "8 * 5 = 40\n",
      "8 * 6 = 48\n",
      "8 * 7 = 56\n",
      "8 * 8 = 64\n",
      "8 * 9 = 72\n",
      "8 * 10 = 80\n"
     ]
    }
   ],
   "source": [
    "# for x in range(val):\n",
    "#     print(x)\n",
    "n = int(input(\"Enter number:\"))\n",
    "for i in range(1,11):\n",
    "    print(n,\"*\",i,\"=\",n*i)"
   ]
  },
  {
   "cell_type": "code",
   "execution_count": 16,
   "metadata": {},
   "outputs": [
    {
     "name": "stdout",
     "output_type": "stream",
     "text": [
      "1\n",
      "3\n",
      "6\n",
      "10\n",
      "15\n"
     ]
    }
   ],
   "source": [
    "b = 0\n",
    "for i in range(5):\n",
    "    x = int(input('enter number'))\n",
    "    b+=x\n",
    "    print(b)"
   ]
  },
  {
   "cell_type": "code",
   "execution_count": null,
   "metadata": {},
   "outputs": [],
   "source": []
  },
  {
   "cell_type": "code",
   "execution_count": 18,
   "metadata": {},
   "outputs": [
    {
     "name": "stdout",
     "output_type": "stream",
     "text": [
      "a \n",
      "a b \n",
      "a b c \n",
      "a b c d \n",
      "a b c d e \n",
      "result: a b c d e \n"
     ]
    }
   ],
   "source": [
    "b = str()\n",
    "n = 5\n",
    "for i in range(n):\n",
    "    x =input('enter number')\n",
    "    b+=x+' '\n",
    "    print(b)\n",
    "print('result:',b)"
   ]
  },
  {
   "cell_type": "code",
   "execution_count": 22,
   "metadata": {},
   "outputs": [
    {
     "name": "stdout",
     "output_type": "stream",
     "text": [
      "ram 545\n",
      "hari 54\n",
      "\n"
     ]
    }
   ],
   "source": [
    "ppl = int(input(\"enter total number of data you want to entry:\"))\n",
    "storage = str()\n",
    "\n",
    "for i in range(ppl):\n",
    "    name = input(\"enter name\")\n",
    "    phone = input('enter phone')\n",
    "    storage+= name+' '+phone+'\\n'\n",
    "print(storage)"
   ]
  },
  {
   "cell_type": "code",
   "execution_count": 30,
   "metadata": {},
   "outputs": [
    {
     "name": "stdout",
     "output_type": "stream",
     "text": [
      "1\n"
     ]
    }
   ],
   "source": [
    "# factorial \n",
    "n = int(input(\"enter number\"))\n",
    "fact = 1\n",
    "for i in range(1,n+1):\n",
    "    fact*=i\n",
    "print(fact)"
   ]
  },
  {
   "cell_type": "code",
   "execution_count": 37,
   "metadata": {},
   "outputs": [
    {
     "name": "stdout",
     "output_type": "stream",
     "text": [
      "number is prime number\n"
     ]
    }
   ],
   "source": [
    "abc = int(input(\"enter number\"))\n",
    "x=0\n",
    "if abc>=0:\n",
    "    if abc==0 or abc==1:\n",
    "        print(\"given number is neither a prime nor composite.\")\n",
    "    else:\n",
    "        for i in range(2, abc//2):\n",
    "            if(abc%i ==0):\n",
    "                x = 1\n",
    "                break\n",
    "    if x:\n",
    "        print(\"number is Composite number\")\n",
    "    else:\n",
    "        print(\"number is prime number\")\n",
    "\n",
    "else:\n",
    "    print(\"Enter positive number only.\")\n",
    "\n",
    "\n",
    "\n"
   ]
  },
  {
   "cell_type": "markdown",
   "metadata": {},
   "source": [
    "# 2079-03-07"
   ]
  },
  {
   "cell_type": "code",
   "execution_count": 22,
   "metadata": {},
   "outputs": [
    {
     "name": "stdout",
     "output_type": "stream",
     "text": [
      "0 1 3 4 6 8 "
     ]
    }
   ],
   "source": [
    "# Break and Continue -- Control statement \n",
    "#Break is used to terminate the loops.\n",
    "\n",
    "#continue\n",
    "for i in range(10):\n",
    "    if i==2 or i==5 or i==7 or i==9:\n",
    "        continue\n",
    "    print(i, end=' ')\n",
    "\n"
   ]
  },
  {
   "cell_type": "markdown",
   "metadata": {},
   "source": [
    "## String with while loop"
   ]
  },
  {
   "cell_type": "code",
   "execution_count": 29,
   "metadata": {},
   "outputs": [
    {
     "name": "stdout",
     "output_type": "stream",
     "text": [
      "S t r i n g "
     ]
    }
   ],
   "source": [
    "str1 = 'String'\n",
    "for i in range(len(str1)):\n",
    "    print(str1[i], end=' ')"
   ]
  },
  {
   "cell_type": "code",
   "execution_count": 42,
   "metadata": {},
   "outputs": [
    {
     "name": "stdout",
     "output_type": "stream",
     "text": [
      "10\n",
      "9\n",
      "8\n",
      "7\n",
      "6\n",
      "5\n",
      "4\n",
      "3\n",
      "2\n",
      "1\n"
     ]
    }
   ],
   "source": [
    "#while loop \n",
    "#while(condition):\n",
    "i=10\n",
    "while(i>0):\n",
    "    print(i)\n",
    "    i-=1"
   ]
  },
  {
   "cell_type": "code",
   "execution_count": 43,
   "metadata": {},
   "outputs": [
    {
     "name": "stdout",
     "output_type": "stream",
     "text": [
      "0\n",
      "1\n",
      "2\n",
      "3\n",
      "4\n",
      "5\n",
      "6\n",
      "7\n",
      "8\n",
      "9\n"
     ]
    }
   ],
   "source": [
    "i = 0\n",
    "while(i<10):\n",
    "    print(i)\n",
    "    i+=1"
   ]
  },
  {
   "cell_type": "code",
   "execution_count": 45,
   "metadata": {},
   "outputs": [
    {
     "name": "stdout",
     "output_type": "stream",
     "text": [
      "printing\n",
      "printing\n",
      "printing\n",
      "printing\n",
      "printing\n",
      "printing\n",
      "printing\n",
      "printing\n",
      "printing\n",
      "printing\n",
      "printing\n"
     ]
    }
   ],
   "source": [
    "z=0\n",
    "while z<1:\n",
    "    print(\"printing\")\n",
    "    z+=.1"
   ]
  },
  {
   "cell_type": "code",
   "execution_count": 46,
   "metadata": {},
   "outputs": [
    {
     "name": "stdout",
     "output_type": "stream",
     "text": [
      "10\n",
      "9\n",
      "8\n",
      "7\n",
      "6\n",
      "5\n",
      "4\n",
      "3\n",
      "2\n",
      "1\n"
     ]
    }
   ],
   "source": [
    "#decreasing loop\n",
    "for i in range(10,0,-1):\n",
    "    print(i)"
   ]
  },
  {
   "cell_type": "code",
   "execution_count": null,
   "metadata": {},
   "outputs": [],
   "source": []
  },
  {
   "cell_type": "code",
   "execution_count": 52,
   "metadata": {},
   "outputs": [
    {
     "name": "stdout",
     "output_type": "stream",
     "text": [
      "2*1=2\n",
      "2*2=4\n",
      "2*3=6\n",
      "2*4=8\n",
      "2*5=10\n",
      "2*6=12\n",
      "2*7=14\n",
      "2*8=16\n",
      "2*9=18\n",
      "2*10=20\n"
     ]
    }
   ],
   "source": [
    "a = 1\n",
    "n=2\n",
    "while a<=10:\n",
    "    print(str(n)+\"*\"+str(a)+\"=\"+str(n*a))\n",
    "    a+=1"
   ]
  },
  {
   "cell_type": "code",
   "execution_count": 19,
   "metadata": {},
   "outputs": [
    {
     "name": "stdout",
     "output_type": "stream",
     "text": [
      "6\n"
     ]
    }
   ],
   "source": [
    "num = int(input(\"enter number\"))\n",
    "output = 1\n",
    "\n",
    "while num>=1:\n",
    "    output*=num\n",
    "    num-=1\n",
    "print(output)"
   ]
  },
  {
   "cell_type": "code",
   "execution_count": 21,
   "metadata": {},
   "outputs": [
    {
     "name": "stdout",
     "output_type": "stream",
     "text": [
      "kahdg 645342\n",
      "gadsfs 65432\n",
      "\n"
     ]
    }
   ],
   "source": [
    "n = int(input(\"enter number\"))\n",
    "s = ''\n",
    "i = 0\n",
    "while i<n:\n",
    "    name = input(\"Enter name\")\n",
    "    phone = input(\"enter number\")\n",
    "    s +=name+' '+phone+'\\n'\n",
    "    i+=1\n",
    "print(s)"
   ]
  },
  {
   "cell_type": "code",
   "execution_count": 5,
   "metadata": {},
   "outputs": [
    {
     "name": "stdout",
     "output_type": "stream",
     "text": [
      "0\n",
      "1\n",
      "2\n",
      "3\n",
      "4\n"
     ]
    }
   ],
   "source": [
    "numbr = int(input(\"enter any  number\"))\n",
    "n1 = int(input(\"enter other number\"))\n",
    "b = 1\n",
    "while b<numbr:\n",
    "    if n1 == 0:\n",
    "        print(\"zero is encountered.\")\n",
    "        break\n",
    "    else:\n",
    "        print(b)\n",
    "    b+=1"
   ]
  },
  {
   "cell_type": "markdown",
   "metadata": {},
   "source": [
    "# break and continue statements inside while loop"
   ]
  },
  {
   "cell_type": "code",
   "execution_count": 9,
   "metadata": {},
   "outputs": [
    {
     "name": "stdout",
     "output_type": "stream",
     "text": [
      "0\n",
      "1\n",
      "2\n",
      "4\n"
     ]
    }
   ],
   "source": [
    "abc = 0\n",
    "while abc<5:\n",
    "    if abc==3:\n",
    "        abc+=1\n",
    "        continue\n",
    "    print(abc)\n",
    "    abc+=1"
   ]
  },
  {
   "cell_type": "markdown",
   "metadata": {},
   "source": [
    "#### write a program to find given number is prime or composite."
   ]
  },
  {
   "cell_type": "code",
   "execution_count": 30,
   "metadata": {},
   "outputs": [
    {
     "name": "stdout",
     "output_type": "stream",
     "text": [
      "prime\n"
     ]
    }
   ],
   "source": [
    "n = int(input(\"enter any number\"))\n",
    "counter = 2\n",
    "flag = False\n",
    "while counter<n//2:\n",
    "    if n ==0 or n ==1:\n",
    "        print(\"Given number is neither a prime nor the composite\")\n",
    "        break\n",
    "    else:\n",
    "        if n%counter==0:\n",
    "            flag = True\n",
    "            break \n",
    "        counter+=1\n",
    "\n",
    "if flag:\n",
    "    print(\"Given number is composite\")\n",
    "else:\n",
    "    print(\"prime\")\n"
   ]
  },
  {
   "cell_type": "markdown",
   "metadata": {},
   "source": [
    "### 2079-03-08"
   ]
  },
  {
   "cell_type": "code",
   "execution_count": null,
   "metadata": {},
   "outputs": [],
   "source": [
    "#using while else\n",
    "n = int(input(\"enter number\"))\n",
    "i =2 \n",
    "if n>=2:\n",
    "    while i<=n//2:\n",
    "        if n%i==0:\n",
    "            print(\"coposite\")\n",
    "            break \n",
    "        i+=1\n",
    "    else:\n",
    "        print('prime')\n",
    "else:\n",
    "    print(\"NUmber must be greater than 1\")"
   ]
  },
  {
   "cell_type": "code",
   "execution_count": 7,
   "metadata": {},
   "outputs": [
    {
     "name": "stdout",
     "output_type": "stream",
     "text": [
      "p\n",
      "y\n",
      "t\n",
      "h\n",
      "o\n",
      "n\n"
     ]
    }
   ],
   "source": [
    "python = 'python'\n",
    "i = 0\n",
    "while i<len(python):\n",
    "    print(python[i])\n",
    "    i+=1"
   ]
  },
  {
   "cell_type": "code",
   "execution_count": 37,
   "metadata": {},
   "outputs": [
    {
     "name": "stdout",
     "output_type": "stream",
     "text": [
      "pythonisasnake"
     ]
    }
   ],
   "source": [
    "snake ='python is a snake'\n",
    "i = 0\n",
    "while i<len(snake):\n",
    "    if snake[i]==' ':\n",
    "        i+=1\n",
    "        continue\n",
    "    print(snake[i],end='')\n",
    "    i+=1\n"
   ]
  },
  {
   "cell_type": "markdown",
   "metadata": {},
   "source": [
    "#### Write a program to create a billing system using for or while loop"
   ]
  },
  {
   "cell_type": "code",
   "execution_count": 48,
   "metadata": {},
   "outputs": [
    {
     "name": "stdout",
     "output_type": "stream",
     "text": [
      "product:momo\n",
      "price:120\n",
      "quantity:4\n",
      "total:480.0\n",
      "\n",
      "product:phone\n",
      "price:5000\n",
      "quantity:5\n",
      "total:25480.0\n",
      "\n",
      "\n",
      "Grand total: 25960.0\n"
     ]
    }
   ],
   "source": [
    "#product name\n",
    "#prince\n",
    "#quantity\n",
    "#total\n",
    "#grand total\n",
    "\n",
    "n = int(input(\"enter how many products you bought:\"))\n",
    "total = 0\n",
    "grand_total = 0\n",
    "bills = ''\n",
    "\n",
    "for x in range(n):\n",
    "    p_name = input(\"enter product name\")\n",
    "    price = input(\"enter price\")\n",
    "    quantity = int(input(\"enter quantity \"))\n",
    "    total +=float(price)*quantity\n",
    "    grand_total+=total\n",
    "    bill='product:{}\\nprice:{}\\nquantity:{}\\ntotal:{}\\n\\n'.format(p_name, price, quantity, total)\n",
    "    bills+=bill\n",
    "print(bills)\n",
    "print(\"Grand total:\",grand_total)\n"
   ]
  },
  {
   "cell_type": "code",
   "execution_count": 55,
   "metadata": {},
   "outputs": [
    {
     "name": "stdout",
     "output_type": "stream",
     "text": [
      "24\n"
     ]
    }
   ],
   "source": [
    "n = 4\n",
    "fact = 1\n",
    "while n>=1:\n",
    "    fact*=n\n",
    "    n-=1\n",
    "print(fact)"
   ]
  },
  {
   "cell_type": "markdown",
   "metadata": {},
   "source": [
    "### 2079-03-09"
   ]
  },
  {
   "cell_type": "markdown",
   "metadata": {},
   "source": [
    "#### Write a program to find average length of word from sentence."
   ]
  },
  {
   "cell_type": "code",
   "execution_count": 57,
   "metadata": {},
   "outputs": [
    {
     "name": "stdout",
     "output_type": "stream",
     "text": [
      "average length of words:4\n"
     ]
    }
   ],
   "source": [
    "\n",
    "\n",
    "import math \n",
    "sentence = 'abcd abcd abcd abcd abcd abcd abdc'\n",
    "words = sentence.split()\n",
    "counter =0\n",
    "\n",
    "for el in words:\n",
    "    counter+=len(el)\n",
    "\n",
    "avg = int(counter)/len(words)\n",
    "print(\"average length of words:{}\". format(math.trunc(avg)))"
   ]
  },
  {
   "cell_type": "markdown",
   "metadata": {},
   "source": [
    "### WAP to find letter frequency from the given word."
   ]
  },
  {
   "cell_type": "code",
   "execution_count": 49,
   "metadata": {},
   "outputs": [
    {
     "name": "stdout",
     "output_type": "stream",
     "text": [
      "2\n"
     ]
    }
   ],
   "source": [
    "inputed_word = input(\"enter word\")\n",
    "inputed_letter = input('enter letter:')\n",
    "j=0\n",
    "for letter in inputed_word:\n",
    "    if letter == inputed_letter:\n",
    "        j+=1\n",
    "print(j)\n"
   ]
  },
  {
   "cell_type": "code",
   "execution_count": 32,
   "metadata": {},
   "outputs": [
    {
     "name": "stdout",
     "output_type": "stream",
     "text": [
      "nohtyp\n"
     ]
    }
   ],
   "source": [
    "word = 'python'\n",
    "print(word[::-1])"
   ]
  },
  {
   "cell_type": "code",
   "execution_count": 44,
   "metadata": {},
   "outputs": [
    {
     "name": "stdout",
     "output_type": "stream",
     "text": [
      "nohtyp"
     ]
    }
   ],
   "source": [
    "given_word = 'python'\n",
    "\n",
    "for el in range(len(given_word)-1,-1,-1):\n",
    "    print(given_word[el],end='')\n"
   ]
  },
  {
   "cell_type": "code",
   "execution_count": 43,
   "metadata": {},
   "outputs": [
    {
     "name": "stdout",
     "output_type": "stream",
     "text": [
      "nohtyp"
     ]
    }
   ],
   "source": [
    "i=len(given_word)-1\n",
    "while i>-1:\n",
    "    print(given_word[i],end='')\n",
    "    i-=1\n",
    "\n",
    "\n",
    "\n"
   ]
  },
  {
   "cell_type": "code",
   "execution_count": 54,
   "metadata": {},
   "outputs": [
    {
     "name": "stdout",
     "output_type": "stream",
     "text": [
      "4\n"
     ]
    }
   ],
   "source": [
    "#counting letter frequency usign while\n",
    "\n",
    "given_word = 'abcdddd'\n",
    "letter  = 'd'\n",
    "i=1\n",
    "count = 0\n",
    "while i<len(given_word):\n",
    "    if letter==given_word[i]:\n",
    "        count+=1\n",
    "    i+=1\n",
    "print(count)\n"
   ]
  },
  {
   "cell_type": "code",
   "execution_count": 61,
   "metadata": {},
   "outputs": [
    {
     "name": "stdout",
     "output_type": "stream",
     "text": [
      "palindrome\n"
     ]
    }
   ],
   "source": [
    "word = 'abccba'\n",
    "if word == word[::-1]:\n",
    "    print(\"palindrome\")\n",
    "else:\n",
    "    print(\"not palindrome\")"
   ]
  },
  {
   "cell_type": "markdown",
   "metadata": {},
   "source": [
    "### find fibonacci series."
   ]
  },
  {
   "cell_type": "code",
   "execution_count": 72,
   "metadata": {},
   "outputs": [
    {
     "name": "stdout",
     "output_type": "stream",
     "text": [
      "0\n",
      "1\n",
      "1\n",
      "2\n",
      "3\n",
      "5\n",
      "8\n",
      "13\n",
      "21\n",
      "34\n",
      "34\n"
     ]
    }
   ],
   "source": [
    "z=8\n",
    "a=0\n",
    "b=1\n",
    "print(a)\n",
    "print(b)\n",
    "for i in range(z):\n",
    "    c=a+b\n",
    "    print(c)\n",
    "    a =b\n",
    "    b=c\n",
    "    \n",
    "print(c)\n",
    "\n"
   ]
  },
  {
   "cell_type": "code",
   "execution_count": 76,
   "metadata": {},
   "outputs": [
    {
     "name": "stdout",
     "output_type": "stream",
     "text": [
      " three two one\n"
     ]
    }
   ],
   "source": [
    "n = '321'\n",
    "i=0\n",
    "valu = ''\n",
    "while i<len(n):\n",
    "    if n[i]=='1':\n",
    "        valu+=' '+'one'\n",
    "    elif n[i]=='2':\n",
    "        valu+=' '+'two'\n",
    "    elif n[i]=='3':\n",
    "        valu+=' '+'three'\n",
    "\n",
    "    i+=1\n",
    "print(valu)\n"
   ]
  },
  {
   "cell_type": "code",
   "execution_count": 3,
   "metadata": {},
   "outputs": [
    {
     "name": "stdout",
     "output_type": "stream",
     "text": [
      "10 terms of the fibonacci series are:\n",
      "[0, 1, 1, 2, 3, 5, 8, 13, 21, 34]\n"
     ]
    }
   ],
   "source": [
    "fib = [0, 1]\n",
    "# finding 10 terms of the series starting from 3rd term\n",
    "N = 10\n",
    "for term in range(3, N + 1):\n",
    "    value = fib[term - 2] + fib[term - 3]\n",
    "    fib.append(value)\n",
    "print(\"10 terms of the fibonacci series are:\")\n",
    "print(fib)"
   ]
  },
  {
   "cell_type": "code",
   "execution_count": 8,
   "metadata": {},
   "outputs": [
    {
     "name": "stdout",
     "output_type": "stream",
     "text": [
      "10th term of the fibonacci series is:\n",
      "34\n"
     ]
    }
   ],
   "source": [
    "def fibonacci(N):\n",
    "    if N == 1:\n",
    "        return 0\n",
    "    if N == 2:\n",
    "        return 1\n",
    "    return fibonacci(N - 1) + fibonacci(N - 2)\n",
    "\n",
    "print(\"10th term of the fibonacci series is:\")\n",
    "print(fibonacci(10))"
   ]
  },
  {
   "cell_type": "code",
   "execution_count": 7,
   "metadata": {},
   "outputs": [
    {
     "name": "stdout",
     "output_type": "stream",
     "text": [
      "2\n"
     ]
    }
   ],
   "source": [
    "abcd = [0,1,1]\n",
    "v = abcd[2]+abcd[1]\n",
    "print(v)"
   ]
  }
 ],
 "metadata": {
  "kernelspec": {
   "display_name": "Python 3.10.4 64-bit",
   "language": "python",
   "name": "python3"
  },
  "language_info": {
   "codemirror_mode": {
    "name": "ipython",
    "version": 3
   },
   "file_extension": ".py",
   "mimetype": "text/x-python",
   "name": "python",
   "nbconvert_exporter": "python",
   "pygments_lexer": "ipython3",
   "version": "3.10.5"
  },
  "orig_nbformat": 4,
  "vscode": {
   "interpreter": {
    "hash": "916dbcbb3f70747c44a77c7bcd40155683ae19c65e1c03b4aa3499c5328201f1"
   }
  }
 },
 "nbformat": 4,
 "nbformat_minor": 2
}
