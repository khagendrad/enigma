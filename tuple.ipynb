{
 "cells": [
  {
   "cell_type": "markdown",
   "metadata": {},
   "source": [
    "## 2079-03-14"
   ]
  },
  {
   "cell_type": "markdown",
   "metadata": {},
   "source": [
    "# Tuple \n",
    "* indexing \n",
    "* ordered \n",
    "* multiple data \n",
    "* Imutable \n",
    "* enclosed with in ()"
   ]
  },
  {
   "cell_type": "code",
   "execution_count": 4,
   "metadata": {},
   "outputs": [
    {
     "name": "stdout",
     "output_type": "stream",
     "text": [
      "<class 'tuple'>\n"
     ]
    }
   ],
   "source": [
    "a: tuple\n",
    "print(type(a))"
   ]
  },
  {
   "cell_type": "code",
   "execution_count": 6,
   "metadata": {},
   "outputs": [
    {
     "name": "stdout",
     "output_type": "stream",
     "text": [
      "cat\n",
      "('cat', 'dong')\n",
      "('cat', 'dong')\n"
     ]
    }
   ],
   "source": [
    "#indexing \n",
    "a = ('apple','ball','cat','dog')\n",
    "print(a[2])\n",
    "print(a[2:4])\n",
    "print(a[2:])\n"
   ]
  },
  {
   "cell_type": "code",
   "execution_count": 16,
   "metadata": {},
   "outputs": [
    {
     "name": "stdout",
     "output_type": "stream",
     "text": [
      "('apple', 'ball', 1, 2, 3, 4, 5)\n"
     ]
    }
   ],
   "source": [
    "c = (1,2,3,4,5)\n",
    "d = ('apple','ball')\n",
    "e = d+c\n",
    "print(e)\n"
   ]
  },
  {
   "cell_type": "code",
   "execution_count": null,
   "metadata": {},
   "outputs": [],
   "source": []
  },
  {
   "cell_type": "markdown",
   "metadata": {},
   "source": []
  },
  {
   "cell_type": "markdown",
   "metadata": {},
   "source": [
    "## Immutable \n",
    "does not support following methods:\n",
    "* append(), insert(), extend()\n",
    "* del pop(), remove()\n",
    "* update\n",
    "* sort"
   ]
  },
  {
   "cell_type": "code",
   "execution_count": 10,
   "metadata": {},
   "outputs": [
    {
     "name": "stdout",
     "output_type": "stream",
     "text": [
      "('apple',)\n"
     ]
    }
   ],
   "source": [
    "d = ('apple',)\n",
    "print(d)"
   ]
  },
  {
   "cell_type": "code",
   "execution_count": 22,
   "metadata": {},
   "outputs": [
    {
     "name": "stdout",
     "output_type": "stream",
     "text": [
      "('2',)\n",
      "<class 'tuple'>\n"
     ]
    }
   ],
   "source": [
    "t = ()\n",
    "n = int(input(\"enter tuple :\"))\n",
    "for i in range(n):\n",
    "    x = input(\"enter item x:\")\n",
    "    t += (x,)\n",
    "print(t)\n",
    "print(type(t))\n"
   ]
  },
  {
   "cell_type": "markdown",
   "metadata": {},
   "source": [
    "we can convert tuple into list and insert items. then convert list back to the set."
   ]
  },
  {
   "cell_type": "code",
   "execution_count": 26,
   "metadata": {},
   "outputs": [
    {
     "name": "stdout",
     "output_type": "stream",
     "text": [
      "['apple', 'ball']\n"
     ]
    },
    {
     "data": {
      "text/plain": [
       "['apple', 'ball']"
      ]
     },
     "execution_count": 26,
     "metadata": {},
     "output_type": "execute_result"
    }
   ],
   "source": [
    "print(d)\n",
    "d  = list(d)\n",
    "d\n"
   ]
  },
  {
   "cell_type": "markdown",
   "metadata": {},
   "source": [
    "### addition support of list and set\n",
    "* tuple inside list \n",
    "* tuple inside tuple \n",
    "* list inside tuple \n",
    "* list inside list "
   ]
  },
  {
   "cell_type": "code",
   "execution_count": 28,
   "metadata": {},
   "outputs": [
    {
     "name": "stdout",
     "output_type": "stream",
     "text": [
      "('a', 'b', (1, 2, 3), 'z', [1, 2, 3])\n"
     ]
    }
   ],
   "source": [
    "y = ('a','b',(1,2,3),'z',[7,8,9])\n",
    "print(y)"
   ]
  },
  {
   "cell_type": "code",
   "execution_count": 30,
   "metadata": {},
   "outputs": [
    {
     "name": "stdout",
     "output_type": "stream",
     "text": [
      "((1, 2, 3), (1, 2, 3), (1, 2, 3))\n"
     ]
    }
   ],
   "source": [
    "a = ()\n",
    "r = 3\n",
    "c = 3\n",
    "for i in range(r):\n",
    "    t = ()\n",
    "    for j in range(3):\n",
    "        n = int(input('enter item'))\n",
    "        t +=(n,)\n",
    "    a+=(t,)\n",
    "print(a)\n"
   ]
  },
  {
   "cell_type": "code",
   "execution_count": 32,
   "metadata": {},
   "outputs": [
    {
     "data": {
      "text/plain": [
       "[[1, 2, 3], [1, 2, 3], [1, 2, 3]]"
      ]
     },
     "execution_count": 32,
     "metadata": {},
     "output_type": "execute_result"
    }
   ],
   "source": [
    "# converting tuple inside tuple into list inside list \n",
    "z = ((1, 2, 3), (1, 2, 3), (1, 2, 3))\n",
    "k = []\n",
    "for i in z:\n",
    "    k.append(list(i))\n",
    "k"
   ]
  },
  {
   "cell_type": "code",
   "execution_count": 36,
   "metadata": {},
   "outputs": [
    {
     "data": {
      "text/plain": [
       "((1, 2, 3), (1, 2, 3), (1, 2, 3))"
      ]
     },
     "execution_count": 36,
     "metadata": {},
     "output_type": "execute_result"
    }
   ],
   "source": [
    "# converting lsit inside list into tuple inside tuple\n",
    "g = ()\n",
    "for el in k:\n",
    "    g+= (tuple(el),)\n",
    "g\n"
   ]
  },
  {
   "cell_type": "code",
   "execution_count": 38,
   "metadata": {},
   "outputs": [
    {
     "name": "stdout",
     "output_type": "stream",
     "text": [
      "([1, 2, 3], [1, 2, 3], [1, 2, 3])\n"
     ]
    }
   ],
   "source": [
    "# list inside tuple\n",
    "a =()\n",
    "r = 3 \n",
    "c = 3\n",
    "for i in range(r):\n",
    "    l =[]\n",
    "    for j in range(c):\n",
    "        n = int(input(''))\n",
    "        l.append(n)\n",
    "        # l = set(l) \n",
    "    a+=(l,)\n",
    "print(a)\n",
    "    "
   ]
  },
  {
   "cell_type": "code",
   "execution_count": 39,
   "metadata": {},
   "outputs": [
    {
     "data": {
      "text/plain": [
       "([5, 2, 3], [1, 2, 3], [1, 2, 3])"
      ]
     },
     "execution_count": 39,
     "metadata": {},
     "output_type": "execute_result"
    }
   ],
   "source": [
    "a =([1, 2, 3], [1, 2, 3], [1, 2, 3])\n",
    "a[0][0]= 5\n",
    "a"
   ]
  },
  {
   "cell_type": "code",
   "execution_count": 43,
   "metadata": {},
   "outputs": [
    {
     "data": {
      "text/plain": [
       "[(1, 2, 3), (4, 5, 6), (7, 8, 9), (7, 8, 9)]"
      ]
     },
     "execution_count": 43,
     "metadata": {},
     "output_type": "execute_result"
    }
   ],
   "source": [
    "z = [(1,2,3),(4,5,6),(7,8,9)]\n",
    "# z[0]=(3,2,1)\n",
    "# z[0]+(0,) # tuple supprt concatenate \n",
    "z.append((7,8,9))\n",
    "z"
   ]
  },
  {
   "cell_type": "code",
   "execution_count": 2,
   "metadata": {},
   "outputs": [
    {
     "name": "stdout",
     "output_type": "stream",
     "text": [
      "<class 'list'>\n"
     ]
    }
   ],
   "source": [
    "x = 1,2,3,4,5,6\n",
    "dis = list(range(len(x)))\n",
    "print(type(dis))"
   ]
  }
 ],
 "metadata": {
  "kernelspec": {
   "display_name": "Python 3.10.4 64-bit",
   "language": "python",
   "name": "python3"
  },
  "language_info": {
   "codemirror_mode": {
    "name": "ipython",
    "version": 3
   },
   "file_extension": ".py",
   "mimetype": "text/x-python",
   "name": "python",
   "nbconvert_exporter": "python",
   "pygments_lexer": "ipython3",
   "version": "3.10.5"
  },
  "orig_nbformat": 4,
  "vscode": {
   "interpreter": {
    "hash": "916dbcbb3f70747c44a77c7bcd40155683ae19c65e1c03b4aa3499c5328201f1"
   }
  }
 },
 "nbformat": 4,
 "nbformat_minor": 2
}
