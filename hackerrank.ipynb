{
 "cells": [
  {
   "cell_type": "code",
   "execution_count": 17,
   "metadata": {},
   "outputs": [
    {
     "name": "stdout",
     "output_type": "stream",
     "text": [
      "        H        \n",
      "       HHH       \n",
      "      HHHHH      \n",
      "     HHHHHHH     \n",
      "    HHHHHHHHH    \n",
      "   HHHHHHHHHHH   \n",
      "  HHHHHHHHHHHHH  \n",
      " HHHHHHHHHHHHHHH \n",
      "HHHHHHHHHHHHHHHHH\n",
      "    HHHHHHHHH                           HHHHHHHHH                       \n",
      "    HHHHHHHHH                           HHHHHHHHH                       \n",
      "    HHHHHHHHH                           HHHHHHHHH                       \n",
      "    HHHHHHHHH                           HHHHHHHHH                       \n",
      "    HHHHHHHHH                           HHHHHHHHH                       \n",
      "    HHHHHHHHH                           HHHHHHHHH                       \n",
      "    HHHHHHHHH                           HHHHHHHHH                       \n",
      "    HHHHHHHHH                           HHHHHHHHH                       \n",
      "    HHHHHHHHH                           HHHHHHHHH                       \n",
      "    HHHHHHHHH                           HHHHHHHHH                       \n",
      "    HHHHHHHHHHHHHHHHHHHHHHHHHHHHHHHHHHHHHHHHHHHHH     \n",
      "    HHHHHHHHHHHHHHHHHHHHHHHHHHHHHHHHHHHHHHHHHHHHH     \n",
      "    HHHHHHHHHHHHHHHHHHHHHHHHHHHHHHHHHHHHHHHHHHHHH     \n",
      "    HHHHHHHHHHHHHHHHHHHHHHHHHHHHHHHHHHHHHHHHHHHHH     \n",
      "    HHHHHHHHHHHHHHHHHHHHHHHHHHHHHHHHHHHHHHHHHHHHH     \n",
      "    HHHHHHHHH                           HHHHHHHHH                       \n",
      "    HHHHHHHHH                           HHHHHHHHH                       \n",
      "    HHHHHHHHH                           HHHHHHHHH                       \n",
      "    HHHHHHHHH                           HHHHHHHHH                       \n",
      "    HHHHHHHHH                           HHHHHHHHH                       \n",
      "    HHHHHHHHH                           HHHHHHHHH                       \n",
      "    HHHHHHHHH                           HHHHHHHHH                       \n",
      "    HHHHHHHHH                           HHHHHHHHH                       \n",
      "    HHHHHHHHH                           HHHHHHHHH                       \n",
      "    HHHHHHHHH                           HHHHHHHHH                       \n",
      "                                    HHHHHHHHHHHHHHHHH \n",
      "                                     HHHHHHHHHHHHHHH  \n",
      "                                      HHHHHHHHHHHHH   \n",
      "                                       HHHHHHHHHHH    \n",
      "                                        HHHHHHHHH     \n",
      "                                         HHHHHHH      \n",
      "                                          HHHHH       \n",
      "                                           HHH        \n",
      "                                            H         \n"
     ]
    }
   ],
   "source": [
    "#Replace all ______ with rjust, ljust or center. \n",
    "\n",
    "thickness = 9 #int(input()) #This must be an odd number\n",
    "c = 'H'\n",
    "\n",
    "#Top Cone\n",
    "for i in range(thickness):\n",
    "    print((c*i).rjust(thickness-1)+c+(c*i).ljust(thickness-1))\n",
    "\n",
    "#Top Pillars\n",
    "for i in range(thickness+1):\n",
    "    print((c*thickness).center(thickness*2)+(c*thickness).center(thickness*6))\n",
    "\n",
    "#Middle Belt\n",
    "for i in range((thickness+1)//2):\n",
    "    print((c*thickness*5).center(thickness*6))    \n",
    "\n",
    "#Bottom Pillars\n",
    "for i in range(thickness+1):\n",
    "    print((c*thickness).center(thickness*2)+(c*thickness).center(thickness*6))    \n",
    "\n",
    "#Bottom Cone\n",
    "for i in range(thickness):\n",
    "    print(((c*(thickness-i-1)).rjust(thickness)+c+(c*(thickness-i-1)).ljust(thickness)).rjust(thickness*6))\n"
   ]
  },
  {
   "cell_type": "code",
   "execution_count": 18,
   "metadata": {},
   "outputs": [
    {
     "data": {
      "text/plain": [
       "[0, 1, 1, 8, 27]"
      ]
     },
     "execution_count": 18,
     "metadata": {},
     "output_type": "execute_result"
    }
   ],
   "source": [
    "# complete the lambda function \n",
    "fib = [0,1]\n",
    "def fibonacci(n):\n",
    "    # return a list of fibonacci numbers\n",
    "    for term in range(3, n+1):\n",
    "        value = fib[term-2]+fib[term-3]\n",
    "        fib.append(value)\n",
    "    return fib\n",
    "y=fibonacci(5)\n",
    "cube = [(lambda x: x**3)(x) for x in y]\n",
    "cube\n",
    "\n"
   ]
  },
  {
   "cell_type": "code",
   "execution_count": 19,
   "metadata": {},
   "outputs": [
    {
     "name": "stdout",
     "output_type": "stream",
     "text": [
      "[0, 1, 1, 2, 3, 5, 8, 13, 21, 34]\n"
     ]
    }
   ],
   "source": [
    "fib = [0, 1]\n",
    "# finding 10 terms of the series starting from 3rd term\n",
    "N = 10\n",
    "for term in range(3, N + 1):\n",
    "    value = fib[term - 2] + fib[term - 3]\n",
    "    fib.append(value)\n",
    "\n",
    "print(fib)"
   ]
  },
  {
   "cell_type": "code",
   "execution_count": 20,
   "metadata": {},
   "outputs": [
    {
     "name": "stdout",
     "output_type": "stream",
     "text": [
      "[0, 1, 1, 8, 27]\n"
     ]
    }
   ],
   "source": [
    "fib = [0,1]\n",
    "\n",
    "def fibonacci(n):\n",
    "    # return a list of fibonacci numbers\n",
    "    for term in range(3,n+1):\n",
    "        value = fib[term-2]+fib[term-3]\n",
    "        fib.append(value)\n",
    "    return fib\n",
    "cube = [(lambda x: x**3) (x) for x in fibonacci(5)]# complete the lambda function \n",
    "print(cube)"
   ]
  },
  {
   "cell_type": "code",
   "execution_count": 21,
   "metadata": {},
   "outputs": [
    {
     "name": "stdout",
     "output_type": "stream",
     "text": [
      "[0, 1, 1, 8, 27]\n"
     ]
    }
   ],
   "source": [
    "cube = lambda x: x**3\n",
    "def fibonacci(n):\n",
    "    lis = [0,1]\n",
    "    for i in range(2, n):\n",
    "        lis.append(lis[i-1]+lis[i-2])\n",
    "    return lis[0:n]\n",
    "print(list(map(cube, fibonacci(5))))"
   ]
  },
  {
   "cell_type": "code",
   "execution_count": 58,
   "metadata": {},
   "outputs": [
    {
     "data": {
      "text/plain": [
       "'hello nepal how are you'"
      ]
     },
     "execution_count": 58,
     "metadata": {},
     "output_type": "execute_result"
    }
   ],
   "source": [
    "new = 'hello nepal   how    are you'\n",
    "nw=' '.join(new.split())\n",
    "nw"
   ]
  },
  {
   "cell_type": "code",
   "execution_count": 60,
   "metadata": {},
   "outputs": [
    {
     "data": {
      "text/plain": [
       "'hello nepal how are you'"
      ]
     },
     "execution_count": 60,
     "metadata": {},
     "output_type": "execute_result"
    }
   ],
   "source": [
    "s= 'hello nepal   how    are you'\n",
    "s = s.split()\n",
    "s=' '.join(s)\n",
    "s"
   ]
  },
  {
   "cell_type": "code",
   "execution_count": null,
   "metadata": {},
   "outputs": [],
   "source": []
  }
 ],
 "metadata": {
  "kernelspec": {
   "display_name": "Python 3.10.5 64-bit",
   "language": "python",
   "name": "python3"
  },
  "language_info": {
   "codemirror_mode": {
    "name": "ipython",
    "version": 3
   },
   "file_extension": ".py",
   "mimetype": "text/x-python",
   "name": "python",
   "nbconvert_exporter": "python",
   "pygments_lexer": "ipython3",
   "version": "3.10.5"
  },
  "orig_nbformat": 4,
  "vscode": {
   "interpreter": {
    "hash": "916dbcbb3f70747c44a77c7bcd40155683ae19c65e1c03b4aa3499c5328201f1"
   }
  }
 },
 "nbformat": 4,
 "nbformat_minor": 2
}
