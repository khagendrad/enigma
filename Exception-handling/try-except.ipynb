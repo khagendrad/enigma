{
 "cells": [
  {
   "cell_type": "code",
   "execution_count": null,
   "metadata": {},
   "outputs": [],
   "source": [
    "import datetime \n",
    "try:\n",
    "    x = datetime.datetime.now()\n",
    "    name = input(\"enter name\")\n",
    "    y = datetime.datetime.now()\n",
    "    t = y-x \n",
    "    if t>=datetime.timedelta(seconds=(10)):\n",
    "        raise Exception(f'time over! you take {t} seconds')\n",
    "    print('you gotcha!')\n",
    "except Exception as e:\n",
    "    print(e)"
   ]
  },
  {
   "cell_type": "code",
   "execution_count": null,
   "metadata": {},
   "outputs": [],
   "source": [
    "try:\n",
    "    a = int(input(\"enter any number\"))\n",
    "except:\n",
    "    print('there you entered wrong input!')"
   ]
  },
  {
   "cell_type": "code",
   "execution_count": null,
   "metadata": {},
   "outputs": [],
   "source": [
    "def cal():\n",
    "    try:\n",
    "        a = int(input('enter number a'))\n",
    "        b = int(input(\"enter number b\"))\n",
    "        c = a/b\n",
    "        print(c)\n",
    "    except Exception as e:\n",
    "        print(\"error \",e)\n",
    "        cal()\n",
    "cal()"
   ]
  },
  {
   "cell_type": "code",
   "execution_count": 8,
   "metadata": {},
   "outputs": [
    {
     "name": "stdout",
     "output_type": "stream",
     "text": [
      "error occured!: invalid literal for int() with base 10: 's'\n"
     ]
    }
   ],
   "source": [
    "#try catch with else block\n",
    "try:\n",
    "    a = int(input('enter number a'))\n",
    "    b = int(input(\"enter number b\"))\n",
    "    c = a/b\n",
    "except Exception as e:\n",
    "    print(\"error occured!:\",e)\n",
    "else:\n",
    "    print(c)"
   ]
  },
  {
   "cell_type": "code",
   "execution_count": 11,
   "metadata": {},
   "outputs": [
    {
     "name": "stdout",
     "output_type": "stream",
     "text": [
      "Error occured!: invalid literal for int() with base 10: 'h'. please enter int value.\n"
     ]
    }
   ],
   "source": [
    "# multiple exception \n",
    "try:\n",
    "    a = int(input(\"enter number a\"))\n",
    "    b = int(input(\"enter number b\"))\n",
    "    c = a/b\n",
    "    print(c)\n",
    "except ValueError as v:\n",
    "    print(f\"Error occured!: {v}. please enter int value.\")\n",
    "except ZeroDivisionError as z:\n",
    "    print(f\"Error occured!: {z}. please enter non zero value.\")"
   ]
  },
  {
   "cell_type": "code",
   "execution_count": 17,
   "metadata": {},
   "outputs": [
    {
     "name": "stdout",
     "output_type": "stream",
     "text": [
      "Value error \n"
     ]
    }
   ],
   "source": [
    "try:\n",
    "    a = int(input(\"enter int value\"))\n",
    "    b = int(input('enter second int value'))\n",
    "    if b ==0:\n",
    "        raise ZeroDivisionError(\"zero value can cause zerodivision error. please enter greater than 0\")\n",
    "    print(a/b)\n",
    "except ZeroDivisionError as z:\n",
    "    print(z)\n",
    "except ValueError:\n",
    "    print(\"Value error \")\n"
   ]
  },
  {
   "cell_type": "code",
   "execution_count": 21,
   "metadata": {},
   "outputs": [
    {
     "name": "stdout",
     "output_type": "stream",
     "text": [
      "palse enter positive value.\n",
      "you entered following value:-10\n"
     ]
    }
   ],
   "source": [
    "try:\n",
    "    a = int(input(\"enter number\"))\n",
    "    assert a>0\n",
    "except :\n",
    "    print(\"palse enter positive value.\")\n",
    "finally:\n",
    "    print(f'you entered following value:{a}')\n"
   ]
  },
  {
   "cell_type": "code",
   "execution_count": 31,
   "metadata": {},
   "outputs": [
    {
     "name": "stdout",
     "output_type": "stream",
     "text": [
      "admin admin 1\n"
     ]
    }
   ],
   "source": [
    "username = 'admin'\n",
    "password = 'admin'\n",
    "c = 1\n",
    "def auth():\n",
    "    global c\n",
    "    try:\n",
    "        user = input(\"enter username\")\n",
    "        psw = input('enter passowrd')\n",
    "        assert username==user and password==psw\n",
    "    except:\n",
    "        print(\"wrong credintials.\")\n",
    "        c+=1\n",
    "        auth()\n",
    "        \n",
    "\n",
    "    else:\n",
    "        print(user, psw, c)\n",
    "auth()\n",
    "    "
   ]
  },
  {
   "cell_type": "code",
   "execution_count": null,
   "metadata": {},
   "outputs": [],
   "source": []
  }
 ],
 "metadata": {
  "kernelspec": {
   "display_name": "Python 3.10.5 64-bit",
   "language": "python",
   "name": "python3"
  },
  "language_info": {
   "codemirror_mode": {
    "name": "ipython",
    "version": 3
   },
   "file_extension": ".py",
   "mimetype": "text/x-python",
   "name": "python",
   "nbconvert_exporter": "python",
   "pygments_lexer": "ipython3",
   "version": "3.10.5"
  },
  "orig_nbformat": 4,
  "vscode": {
   "interpreter": {
    "hash": "916dbcbb3f70747c44a77c7bcd40155683ae19c65e1c03b4aa3499c5328201f1"
   }
  }
 },
 "nbformat": 4,
 "nbformat_minor": 2
}
