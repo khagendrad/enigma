{
 "cells": [
  {
   "cell_type": "markdown",
   "metadata": {},
   "source": [
    "# Python Basics- 2079-02-30\n"
   ]
  },
  {
   "cell_type": "code",
   "execution_count": 2,
   "metadata": {},
   "outputs": [
    {
     "name": "stdout",
     "output_type": "stream",
     "text": [
      "Hello world.\n"
     ]
    }
   ],
   "source": [
    "print(\"Hello world.\")"
   ]
  },
  {
   "cell_type": "markdown",
   "metadata": {},
   "source": [
    "## What is the variables?"
   ]
  },
  {
   "cell_type": "markdown",
   "metadata": {},
   "source": [
    "Variables are memory used to store values.\n"
   ]
  },
  {
   "cell_type": "code",
   "execution_count": 3,
   "metadata": {},
   "outputs": [
    {
     "name": "stdout",
     "output_type": "stream",
     "text": [
      "hello,(2+3j), 2.5, 1\n"
     ]
    }
   ],
   "source": [
    "a=1\n",
    "b=2.5\n",
    "c = 'hello'\n",
    "d = 2+3j\n",
    "e = True\n",
    "print(\"{2},{3}, {1}, {0}\".format(a,b,c,d))\n"
   ]
  },
  {
   "cell_type": "markdown",
   "metadata": {},
   "source": [
    "## Datatypes "
   ]
  },
  {
   "cell_type": "markdown",
   "metadata": {},
   "source": [
    "Datatyoe defines the type of given data or data we need to store. "
   ]
  },
  {
   "cell_type": "code",
   "execution_count": 4,
   "metadata": {},
   "outputs": [
    {
     "name": "stdout",
     "output_type": "stream",
     "text": [
      "<class 'int'>\n",
      "<class 'float'>\n",
      "<class 'str'>\n",
      "<class 'complex'>\n",
      "<class 'bool'>\n"
     ]
    }
   ],
   "source": [
    "print(type(a))\n",
    "print(type(b))\n",
    "print(type(c))\n",
    "print(type(d))\n",
    "print(type(e))"
   ]
  },
  {
   "cell_type": "markdown",
   "metadata": {},
   "source": [
    "## Operators "
   ]
  },
  {
   "cell_type": "markdown",
   "metadata": {},
   "source": [
    "### typs of operators \n",
    "1. Mathmatical Operators:\n",
    "    +,-,*,/,**,%,//"
   ]
  },
  {
   "cell_type": "code",
   "execution_count": 5,
   "metadata": {},
   "outputs": [
    {
     "name": "stdout",
     "output_type": "stream",
     "text": [
      "25\n",
      "5\n",
      "1\n",
      "576650390625\n",
      "5\n"
     ]
    }
   ],
   "source": [
    "ab = 10\n",
    "bc= 15\n",
    "cc = bc+ab\n",
    "print(cc)\n",
    "#minus\n",
    "cd = bc-ab\n",
    "print(cd)\n",
    "#floor division \n",
    "ef = bc//ab\n",
    "print(ef)\n",
    "#exponential \n",
    "gh = bc**ab\n",
    "print(gh)\n",
    "#reminder\n",
    "ij = cd%ab\n",
    "print(ij)"
   ]
  },
  {
   "cell_type": "code",
   "execution_count": 6,
   "metadata": {},
   "outputs": [
    {
     "name": "stdout",
     "output_type": "stream",
     "text": [
      "55\n",
      "Hello world  Hello world  Hello world  Hello world  Hello world  \n",
      "(7+3j)\n"
     ]
    }
   ],
   "source": [
    "z= str(5)  #type casting\n",
    "x = '5'\n",
    "y = x+z\n",
    "print(y)\n",
    "xyz='Hello world  '\n",
    "print(xyz*5)\n",
    "print(int(x)+d)\n"
   ]
  },
  {
   "cell_type": "markdown",
   "metadata": {},
   "source": [
    "## 2079-02-31"
   ]
  },
  {
   "cell_type": "markdown",
   "metadata": {},
   "source": [
    "### 2079-03-05"
   ]
  },
  {
   "cell_type": "markdown",
   "metadata": {},
   "source": [
    "#### Basic Input/Output "
   ]
  },
  {
   "cell_type": "code",
   "execution_count": 13,
   "metadata": {},
   "outputs": [
    {
     "name": "stdout",
     "output_type": "stream",
     "text": [
      "hello nepla\n"
     ]
    }
   ],
   "source": [
    "#input \n",
    "a = input(\"Enter name:\")\n",
    "print(a)"
   ]
  },
  {
   "cell_type": "code",
   "execution_count": 15,
   "metadata": {},
   "outputs": [
    {
     "name": "stdout",
     "output_type": "stream",
     "text": [
      "simple interest 10000.0\n"
     ]
    }
   ],
   "source": [
    "#simple interest \n",
    "p = float(input('Enter principle value: '))\n",
    "t = float(input(\"enter time: \"))\n",
    "r = float(input(\"enter rate:\"))\n",
    "si = p*t*r/100\n",
    "print(\"simple interest\",si)"
   ]
  },
  {
   "cell_type": "code",
   "execution_count": 19,
   "metadata": {},
   "outputs": [
    {
     "name": "stdout",
     "output_type": "stream",
     "text": [
      "value of b can not be zero\n"
     ]
    }
   ],
   "source": [
    "c= int(input(\"enter number \"))\n",
    "d= int(input(\"enter number \"))\n",
    "e = input(\"enter operator \")\n",
    "\n",
    "if e == \"+\":\n",
    "    print(c+d)\n",
    "elif e == \"-\":\n",
    "    print(c-d)\n",
    "elif e == \"/\":\n",
    "    if d==0:\n",
    "        print(\"value of b can not be zero\")\n",
    "    else:\n",
    "        print(c/d)\n",
    "elif e== \"*\":\n",
    "    print(c*d)\n",
    "else:\n",
    "    print(\"invalid operator \")"
   ]
  },
  {
   "cell_type": "markdown",
   "metadata": {},
   "source": [
    "googleclass- 5kcrgpe"
   ]
  }
 ],
 "metadata": {
  "kernelspec": {
   "display_name": "Python 3.10.4 64-bit",
   "language": "python",
   "name": "python3"
  },
  "language_info": {
   "codemirror_mode": {
    "name": "ipython",
    "version": 3
   },
   "file_extension": ".py",
   "mimetype": "text/x-python",
   "name": "python",
   "nbconvert_exporter": "python",
   "pygments_lexer": "ipython3",
   "version": "3.10.5"
  },
  "orig_nbformat": 4,
  "vscode": {
   "interpreter": {
    "hash": "916dbcbb3f70747c44a77c7bcd40155683ae19c65e1c03b4aa3499c5328201f1"
   }
  }
 },
 "nbformat": 4,
 "nbformat_minor": 2
}
