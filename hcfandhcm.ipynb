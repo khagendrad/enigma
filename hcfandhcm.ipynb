{
 "cells": [
  {
   "cell_type": "code",
   "execution_count": null,
   "metadata": {},
   "outputs": [],
   "source": [
    "a = 10 #int(input())\n",
    "b = 12 #int(input())\n",
    "hcf = 0\n",
    "for i in range(2, a+2):\n",
    "    if a%i==0 and b%i==0:\n",
    "        hcf=i\n",
    "lcm  = int((a*b)//hcf)\n",
    "print(f'hcf:{hcf}  \\nlcm:{lcm}')\n"
   ]
  },
  {
   "cell_type": "code",
   "execution_count": null,
   "metadata": {},
   "outputs": [],
   "source": [
    "# Function to find HCF the Using Euclidian algorithm\n",
    "def compute_hcf(x, y):\n",
    "   while(y):\n",
    "       x, y = y, x % y\n",
    "   return x\n",
    "a,b= 12,18\n",
    "hcf = compute_hcf(a,b)\n",
    "lcm = int((a*b)//lcm)\n",
    "print(f\"The HCF: {hcf}. \\nThe LCM: {lcm}\")"
   ]
  }
 ],
 "metadata": {
  "kernelspec": {
   "display_name": "Python 3.10.5 64-bit",
   "language": "python",
   "name": "python3"
  },
  "language_info": {
   "codemirror_mode": {
    "name": "ipython",
    "version": 3
   },
   "file_extension": ".py",
   "mimetype": "text/x-python",
   "name": "python",
   "nbconvert_exporter": "python",
   "pygments_lexer": "ipython3",
   "version": "3.10.5"
  },
  "orig_nbformat": 4,
  "vscode": {
   "interpreter": {
    "hash": "916dbcbb3f70747c44a77c7bcd40155683ae19c65e1c03b4aa3499c5328201f1"
   }
  }
 },
 "nbformat": 4,
 "nbformat_minor": 2
}
