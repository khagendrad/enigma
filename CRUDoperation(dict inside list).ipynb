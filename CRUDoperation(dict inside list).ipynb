{
 "cells": [
  {
   "cell_type": "markdown",
   "metadata": {},
   "source": [
    "### documentation \n",
    "1. run empty list first. 'l'\n",
    "2. run main code, there you can see four options. first choose 1 to create data because list is empty. but also you can try 2,3,4 options by putting data manually. in the following manner <code> l=[{'name':'your name ', 'phone':'your phone','address':'you address'}]</code>\n",
    "\n",
    "3. while creating data, follow following steps \n",
    "* after choosing 1, enter how many data you want to store or create.\n",
    "* first enter name, then phone and then again address (phone number must be unique.)\n",
    "* input field can run several times (after finishing loop, program will say- successfully added.)\n",
    "4. choose 2 to read data. \n",
    "5. choose 3. to modify stored data, you can change all three keys- name, phone and address. To modify name and address, you must validate name and phone, address and phone.\n",
    "6. choose 4 to delete dictionary data, it will delete one dictionary data, that means name,phone and address.\n",
    "7. choosing other options will lead invalid input.\n",
    "8. Only jupyter version"
   ]
  },
  {
   "cell_type": "code",
   "execution_count": 80,
   "metadata": {},
   "outputs": [],
   "source": [
    "l = []"
   ]
  },
  {
   "cell_type": "code",
   "execution_count": 84,
   "metadata": {},
   "outputs": [
    {
     "name": "stdout",
     "output_type": "stream",
     "text": [
      "Choose following options below: \n",
      "1.Create \n",
      "2.Read \n",
      "3.Update \n",
      "4.Delete\n",
      "\n",
      "--------------------------------------------------\n",
      "successfully deleted!\n",
      "-------------------------------------------------\n"
     ]
    }
   ],
   "source": [
    "\n",
    "# input - name, phone, address\n",
    "\n",
    "\n",
    "f=1\n",
    "f1=0\n",
    "print(\"Choose following options below: \\n1.Create \\n2.Read \\n3.Update \\n4.Delete\\n\")\n",
    "print('--------------------------------------------------')\n",
    "ch_op=input(\"Enter option 1-4:\")\n",
    "\n",
    "if ch_op=='1':\n",
    "    # Creating dictionary here \n",
    "    n = int(input('Enter how many data you want to create'))\n",
    "    for i in range(n):\n",
    "        dicto = {}\n",
    "        name, phone, address = [input(\"enter name, phone, address\") for x in range(3)]\n",
    "        dicto['name'], dicto['phone'], dicto['address']=name, phone, address\n",
    "        l.append(dicto)\n",
    "    print('Successfully added.')\n",
    "    f1=1\n",
    "elif ch_op=='2':\n",
    "    #reading data \n",
    "    if not len(l):\n",
    "        print('No data found!')\n",
    "        f1=1\n",
    "    else:\n",
    "        for i in range(len(l)):\n",
    "            all_data = f\"Name of person: {l[i]['name']}\\n Contact:{l[i]['phone']}\\nAddress:{l[i]['address']}\\n\\n\"\n",
    "            print(all_data)\n",
    "        f1=1\n",
    "        \n",
    "elif ch_op=='3':\n",
    "    # updating values\n",
    "    option=input(\"What you wants to update: 'name', 'phone', 'address'\")\n",
    "    #updating name, input name and phone to change name.\n",
    "    if option =='name':\n",
    "        name_in, number_in= input(input(\"find name you want to change: \") for z in range(2))\n",
    "        for nam in range(len(l)):\n",
    "            if name_in!= l[nam]['name'] and number_in!=l[nam]['phone']:\n",
    "                f = 0\n",
    "            else:\n",
    "                new_name =input(\"enter new name:\")\n",
    "                old_name = l[nam]['name']\n",
    "                l[nam]['name']=new_name\n",
    "                print(f\"{old_name} is successfully changed to: {new_name} \")\n",
    "                f=1\n",
    "                break\n",
    "    elif option =='phone':\n",
    "        #modifying phone number. phone is unique field, so it does neet to valite other field to modify.\n",
    "        name_in = input(\"find number you want to change: \")\n",
    "        for nam in range(len(l)):\n",
    "            if name_in!= l[nam]['phone']:\n",
    "                f=0\n",
    "            else:\n",
    "                new_phone =input(\"enter new phone number.\")\n",
    "                old_phone = l[nam]['phone']\n",
    "                l[nam]['phone']=new_phone\n",
    "                print(f\"{old_phone} is successfully changed to: {new_phone} \")\n",
    "                f=1\n",
    "                break\n",
    "    elif option =='address':\n",
    "        # modigying address, must validate adderss and phone number to modify address.\n",
    "        name_in, number_in = [input(\"find address  and number you want to change: \") for y in range(2)]\n",
    "        for nam in range(len(l)):\n",
    "            if name_in!= l[nam]['address'] and number_in != l[nam]['phone']:\n",
    "                f=0\n",
    "            else:\n",
    "                new_address =input(\"enter address you wanted to change.\")\n",
    "                old_add = l[nam]['address']\n",
    "                l[nam]['address']=new_address\n",
    "                print(f\"{old_add} is successfully changed to new address:{new_address} \")\n",
    "                f=1\n",
    "                break\n",
    "        \n",
    "    else:\n",
    "        print(\"Invalid Input!\")\n",
    "    f1=1\n",
    "elif ch_op=='4':\n",
    "    names, number = [input(\"enter name and number: \") for x in range(2)]\n",
    "    for el in range(len(l)):\n",
    "        if l[el]['name']==names and l[el]['phone']== number:\n",
    "            del l[el]\n",
    "            f1=1\n",
    "            print(\"successfully deleted!\")\n",
    "\n",
    "else:\n",
    "    print(\"Invalid Input! Try again.\")\n",
    "print('-------------------------------------------------')\n",
    "if not f:\n",
    "    print(\"Not found!\")\n",
    "if not f1:\n",
    "        print(\"The data you provided do not matched to any!\")\n"
   ]
  },
  {
   "cell_type": "code",
   "execution_count": 85,
   "metadata": {},
   "outputs": [
    {
     "data": {
      "text/plain": [
       "[]"
      ]
     },
     "execution_count": 85,
     "metadata": {},
     "output_type": "execute_result"
    }
   ],
   "source": [
    "l"
   ]
  }
 ],
 "metadata": {
  "kernelspec": {
   "display_name": "Python 3.10.4 64-bit",
   "language": "python",
   "name": "python3"
  },
  "language_info": {
   "codemirror_mode": {
    "name": "ipython",
    "version": 3
   },
   "file_extension": ".py",
   "mimetype": "text/x-python",
   "name": "python",
   "nbconvert_exporter": "python",
   "pygments_lexer": "ipython3",
   "version": "3.10.4"
  },
  "orig_nbformat": 4,
  "vscode": {
   "interpreter": {
    "hash": "916dbcbb3f70747c44a77c7bcd40155683ae19c65e1c03b4aa3499c5328201f1"
   }
  }
 },
 "nbformat": 4,
 "nbformat_minor": 2
}
