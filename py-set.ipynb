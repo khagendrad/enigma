{
 "cells": [
  {
   "cell_type": "markdown",
   "metadata": {},
   "source": [
    "## Python sets\n",
    "* inclosed with in {}, but must use set() method while defining.\n",
    "* unordered \n",
    "* unchangeable ( item can not be replaced)\n",
    "* does not support indexing \n",
    "* value can be poped and added\n",
    "* duplication not allowed\n"
   ]
  },
  {
   "cell_type": "code",
   "execution_count": 1,
   "metadata": {},
   "outputs": [
    {
     "name": "stdout",
     "output_type": "stream",
     "text": [
      "<class 'set'>\n"
     ]
    }
   ],
   "source": [
    "myset = set({})\n",
    "print(type(myset))"
   ]
  },
  {
   "cell_type": "code",
   "execution_count": 6,
   "metadata": {},
   "outputs": [
    {
     "name": "stdout",
     "output_type": "stream",
     "text": [
      "<class 'set'>\n",
      "{1, 2, 3, 4}\n"
     ]
    }
   ],
   "source": [
    "py_set = set((1,2,3,4))\n",
    "print(type(py_set))\n",
    "print(py_set)"
   ]
  },
  {
   "cell_type": "code",
   "execution_count": 8,
   "metadata": {},
   "outputs": [
    {
     "name": "stdout",
     "output_type": "stream",
     "text": [
      "1\n",
      "2\n",
      "3\n",
      "4\n",
      "5\n",
      "6\n",
      "7\n"
     ]
    }
   ],
   "source": [
    "# set accessing \n",
    "pyset1= {1,2,3,4,5,6,7}\n",
    "for item in pyset1:\n",
    "    print(item)"
   ]
  },
  {
   "cell_type": "code",
   "execution_count": 9,
   "metadata": {},
   "outputs": [
    {
     "name": "stdout",
     "output_type": "stream",
     "text": [
      "True\n"
     ]
    }
   ],
   "source": [
    "# checking item that exsit with in the set or not\n",
    "print( 1 in pyset1)"
   ]
  },
  {
   "cell_type": "code",
   "execution_count": 15,
   "metadata": {},
   "outputs": [
    {
     "name": "stdout",
     "output_type": "stream",
     "text": [
      "{1, 2, 3, 4, 5, 6, 7} {1, 2, 3, 4, 5, 6, 7, 10}\n"
     ]
    }
   ],
   "source": [
    "# add()\n",
    "# update() \n",
    "\n",
    "pyset1.add(10)\n",
    "# any iterable object can be aaded into the set.and a set to. \n",
    "pyset2 = {4,5,6,7}\n",
    "pylist = [1,2,3,4]\n",
    "pyset2.update(pylist)\n",
    "print(pyset2, pyset1)"
   ]
  },
  {
   "cell_type": "markdown",
   "metadata": {},
   "source": [
    "* remove(value) removing non-existing item will raise error \n",
    "* discard(value) \n",
    "* pop()\n",
    "* clear()"
   ]
  },
  {
   "cell_type": "markdown",
   "metadata": {},
   "source": [
    "## Set concatenation or joining \n",
    "methods: \n",
    "* union() adds any set to other set\n",
    "* intersection() returns values if both set matched\n",
    "* intersection_update() returns new set of all matched items from both set.\n",
    "* update() adds any set to other set\n",
    "* difference() returns remaining items from left set.\n",
    "* difference_update() returs new set of remaining items from left set.\n",
    "* symmetric_difference()\n",
    "* symmetric_difference_update\n",
    "* issubset() checks if given set is subset of other set.\n",
    "* issuperset() checks if set is superset of other set.\n",
    "* copy() copy set"
   ]
  },
  {
   "cell_type": "code",
   "execution_count": 18,
   "metadata": {},
   "outputs": [
    {
     "name": "stdout",
     "output_type": "stream",
     "text": [
      "{'pp', 'mo', 'jc'}\n"
     ]
    }
   ],
   "source": [
    "myset1 = {'kd','mo','pp','jc'}\n",
    "myset2 ={'jc','pp','mo'}\n",
    "myset1.intersection_update(myset2)\n",
    "print(myset1)\n"
   ]
  }
 ],
 "metadata": {
  "kernelspec": {
   "display_name": "Python 3.10.4 64-bit",
   "language": "python",
   "name": "python3"
  },
  "language_info": {
   "codemirror_mode": {
    "name": "ipython",
    "version": 3
   },
   "file_extension": ".py",
   "mimetype": "text/x-python",
   "name": "python",
   "nbconvert_exporter": "python",
   "pygments_lexer": "ipython3",
   "version": "3.10.4"
  },
  "orig_nbformat": 4,
  "vscode": {
   "interpreter": {
    "hash": "916dbcbb3f70747c44a77c7bcd40155683ae19c65e1c03b4aa3499c5328201f1"
   }
  }
 },
 "nbformat": 4,
 "nbformat_minor": 2
}
