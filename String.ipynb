{
 "cells": [
  {
   "cell_type": "markdown",
   "metadata": {},
   "source": [
    "### String 2079-03-09"
   ]
  },
  {
   "cell_type": "markdown",
   "metadata": {},
   "source": [
    "String slicing"
   ]
  },
  {
   "cell_type": "code",
   "execution_count": 2,
   "metadata": {},
   "outputs": [
    {
     "name": "stdout",
     "output_type": "stream",
     "text": [
      "khag\n"
     ]
    }
   ],
   "source": [
    "name = 'subhalkxmi'\n",
    "b = name[0:4]\n",
    "print(b)"
   ]
  },
  {
   "cell_type": "code",
   "execution_count": 3,
   "metadata": {},
   "outputs": [
    {
     "name": "stdout",
     "output_type": "stream",
     "text": [
      "kaed\n"
     ]
    }
   ],
   "source": [
    "c= name[0:7:2]\n",
    "print(c)"
   ]
  },
  {
   "cell_type": "markdown",
   "metadata": {},
   "source": [
    "### String formatting"
   ]
  },
  {
   "cell_type": "code",
   "execution_count": 4,
   "metadata": {},
   "outputs": [
    {
     "data": {
      "text/plain": [
       "'khagendra 24'"
      ]
     },
     "execution_count": 4,
     "metadata": {},
     "output_type": "execute_result"
    }
   ],
   "source": [
    "name = 'khagendra'\n",
    "age = 24\n",
    "\n",
    "d = f\"{name} {age}\"\n",
    "d"
   ]
  },
  {
   "cell_type": "code",
   "execution_count": 7,
   "metadata": {},
   "outputs": [
    {
     "data": {
      "text/plain": [
       "'Hello there, I am khagendra from Surkhet and age is 24'"
      ]
     },
     "execution_count": 7,
     "metadata": {},
     "output_type": "execute_result"
    }
   ],
   "source": [
    "add='Surkhet'\n",
    "info = \"Hello there, I am {0} from {2} and age is {1}\".format(name, age, add)\n",
    "info"
   ]
  },
  {
   "cell_type": "markdown",
   "metadata": {},
   "source": [
    "### Searching literal in string \n"
   ]
  },
  {
   "cell_type": "code",
   "execution_count": 31,
   "metadata": {},
   "outputs": [
    {
     "name": "stdout",
     "output_type": "stream",
     "text": [
      "found: 2\n"
     ]
    },
    {
     "data": {
      "text/plain": [
       "'Ram Hari Shyam Sita Gita Hari Ram '"
      ]
     },
     "execution_count": 31,
     "metadata": {},
     "output_type": "execute_result"
    }
   ],
   "source": [
    "name = 'Ram hari shyam sita gita hari ram '.lower()\n",
    "x = 'RAM'.lower()\n",
    "if x in name:\n",
    "    print(\"found:\", name.count(x) )\n",
    "name.title()"
   ]
  },
  {
   "cell_type": "code",
   "execution_count": 35,
   "metadata": {},
   "outputs": [
    {
     "name": "stdout",
     "output_type": "stream",
     "text": [
      "Ram hari shyam sita gita hari Ram \n",
      "ram hari shyam sita gita hari ram \n"
     ]
    }
   ],
   "source": [
    "#replace \n",
    "print(name.replace('ram', 'Ram'))\n",
    "print(name)"
   ]
  }
 ],
 "metadata": {
  "kernelspec": {
   "display_name": "Python 3.10.4 64-bit",
   "language": "python",
   "name": "python3"
  },
  "language_info": {
   "codemirror_mode": {
    "name": "ipython",
    "version": 3
   },
   "file_extension": ".py",
   "mimetype": "text/x-python",
   "name": "python",
   "nbconvert_exporter": "python",
   "pygments_lexer": "ipython3",
   "version": "3.10.5"
  },
  "orig_nbformat": 4,
  "vscode": {
   "interpreter": {
    "hash": "916dbcbb3f70747c44a77c7bcd40155683ae19c65e1c03b4aa3499c5328201f1"
   }
  }
 },
 "nbformat": 4,
 "nbformat_minor": 2
}
