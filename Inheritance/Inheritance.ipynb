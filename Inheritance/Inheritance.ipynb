{
 "cells": [
  {
   "cell_type": "markdown",
   "metadata": {},
   "source": [
    "## 2079-03-26\n",
    "\n",
    "## Why oop?\n",
    "Its for reusability. It follows DRY concept. \n",
    "1. Inheritance -\n",
    "the process of using details from a new class without modifying existing class. \n",
    "2. Incapsulation- \n",
    "Hiding the private details of a class from other objects.\n",
    "3. Polymorphism-\n",
    "A concept of using common operation in different ways for different data input."
   ]
  },
  {
   "cell_type": "markdown",
   "metadata": {},
   "source": [
    "#### Class \n",
    "a class is a blueprint for an object.\n",
    "\n",
    "###### Object \n",
    "an object (instance) is an instantiation of a class. When class is defined, only the description for the object is defined. Therefore, no memory or storage is allocated.\n",
    "\n",
    "##### Methods \n",
    "Methods are functions defined inside the body of a class. They are used to define the behaviors of an object."
   ]
  },
  {
   "cell_type": "code",
   "execution_count": 3,
   "metadata": {},
   "outputs": [],
   "source": [
    "class ClassName:\n",
    "    #operations/codes\n",
    "    pass\n",
    "cn= ClassName()"
   ]
  },
  {
   "cell_type": "code",
   "execution_count": 6,
   "metadata": {},
   "outputs": [
    {
     "name": "stdout",
     "output_type": "stream",
     "text": [
      "hello\n"
     ]
    }
   ],
   "source": [
    "class Hello:\n",
    "    def hi(self):\n",
    "        print(\"hello\")\n",
    "hi = Hello()\n",
    "hi.hi()"
   ]
  },
  {
   "cell_type": "code",
   "execution_count": 7,
   "metadata": {},
   "outputs": [
    {
     "name": "stdout",
     "output_type": "stream",
     "text": [
      "hello\n"
     ]
    }
   ],
   "source": [
    "class Hello:\n",
    "    @staticmethod\n",
    "    def hi():\n",
    "        print(\"hello\")\n",
    "hi = Hello()\n",
    "hi.hi()"
   ]
  },
  {
   "cell_type": "code",
   "execution_count": 9,
   "metadata": {},
   "outputs": [
    {
     "name": "stdout",
     "output_type": "stream",
     "text": [
      "2\n",
      "6\n"
     ]
    }
   ],
   "source": [
    "class Cal:\n",
    "    # def __init__(self, l,b):\n",
    "    #     self.l = l\n",
    "    #     self.b = b\n",
    "    def area(self,l,b):\n",
    "        return l*b\n",
    "    def vol(self, l,b,h):\n",
    "        return l*b*h\n",
    "c = Cal()\n",
    "print(c.area(1,2))\n",
    "print(c.vol(1,2,3))"
   ]
  },
  {
   "cell_type": "code",
   "execution_count": 14,
   "metadata": {},
   "outputs": [
    {
     "name": "stdout",
     "output_type": "stream",
     "text": [
      "2\n",
      "6\n"
     ]
    }
   ],
   "source": [
    "class Cal:\n",
    "    # def __init__(self, l,b):\n",
    "    #     self.l = l\n",
    "    #     self.b = b\n",
    "    def area(self):\n",
    "        l,b = map(int, input().split())\n",
    "        return l*b\n",
    "    def vol(self):\n",
    "        l,b,h = map(int, input().split())\n",
    "        return l*b*h\n",
    "c = Cal()\n",
    "print(c.area())\n",
    "print(c.vol())"
   ]
  },
  {
   "cell_type": "code",
   "execution_count": 16,
   "metadata": {},
   "outputs": [
    {
     "name": "stdout",
     "output_type": "stream",
     "text": [
      "2\n",
      "6\n"
     ]
    }
   ],
   "source": [
    "#__init__(self) is  constructor \n",
    "# it is a reference to the current instance of the class.\n",
    "# It is used to access variables that belongs to the class \n",
    "# it has to be the first parameter of any function \n",
    "# we can call it whatever we like (not only self)\n",
    "\n",
    "class Cal:\n",
    "    def __init__(self, l,b,h):\n",
    "        self.l = l\n",
    "        self.b = b\n",
    "        self.h = h\n",
    "    def area(self):\n",
    "        return self.l*self.b\n",
    "    def vol(self):\n",
    "        return self.l*self.b*self.h\n",
    "c = Cal(1,2,3)\n",
    "print(c.area())\n",
    "print(c.vol())"
   ]
  },
  {
   "cell_type": "code",
   "execution_count": 18,
   "metadata": {},
   "outputs": [],
   "source": [
    "\n",
    "class Area:\n",
    "     def __init__(self, l,b):\n",
    "        self.l = l\n",
    "        self.b = b\n",
    "     def area(self):\n",
    "        return self.l*self.b\n",
    "\n",
    "        \n",
    "class Volume:\n",
    "     def __init__(self,l,b,h):\n",
    "        self.l = l\n",
    "        self.b = b\n",
    "        self.h = h\n",
    "     def vol(self):\n",
    "        return self.l*self.b*self.h\n",
    "a = Area(1,2)\n",
    "v = Volume(1,2,3)"
   ]
  },
  {
   "cell_type": "code",
   "execution_count": 30,
   "metadata": {},
   "outputs": [
    {
     "data": {
      "text/plain": [
       "3"
      ]
     },
     "execution_count": 30,
     "metadata": {},
     "output_type": "execute_result"
    }
   ],
   "source": [
    "# Inheritance\n",
    "class A:\n",
    "    def __init__(self, l,b):\n",
    "        self.l = l\n",
    "        self.b = b\n",
    "    def area(self):\n",
    "        ar= self.l*self.b\n",
    "        return ar\n",
    "\n",
    "class B(A):\n",
    "    def __init__(self,h):\n",
    "        self.h = h\n",
    "    def vol(self):\n",
    "        return self.h\n",
    "a = A(1,2)\n",
    "b = B(3)\n",
    "a.area()\n",
    "b.vol()\n",
    "\n"
   ]
  },
  {
   "cell_type": "code",
   "execution_count": 40,
   "metadata": {},
   "outputs": [
    {
     "name": "stdout",
     "output_type": "stream",
     "text": [
      "hello,  i am kd. I am from skt. and I am 23 years old\n",
      "kd\n",
      "kd\n"
     ]
    }
   ],
   "source": [
    "#__str__()\n",
    "class Info:\n",
    "    def __init__(self, name, age, add):\n",
    "        self.name = name \n",
    "        self.age = age\n",
    "        self.add = add\n",
    "    def __str__(self):\n",
    "        return self.name\n",
    "    def information(self):\n",
    "        data = f\"hello,  i am {self.name}. I am from {self.add}. and I am {self.age} years old\"\n",
    "        # return data\n",
    "        print(data)\n",
    "cl = Info('kd','23','skt')\n",
    "cl.information()\n",
    "print(cl)\n",
    "# str(cl)\n",
    "print(cl.__str__())"
   ]
  },
  {
   "cell_type": "code",
   "execution_count": 2,
   "metadata": {},
   "outputs": [
    {
     "name": "stdout",
     "output_type": "stream",
     "text": [
      "{1, 2, 3}\n",
      "2\n"
     ]
    }
   ],
   "source": [
    "nums = {1,2,3,4,5,6}\n",
    "nums = {0,1,2,3} & nums \n",
    "print(nums)\n",
    "nums = filter(lambda x: x>1, nums)\n",
    "print(len(list(nums)))"
   ]
  },
  {
   "cell_type": "code",
   "execution_count": 4,
   "metadata": {},
   "outputs": [
    {
     "name": "stdout",
     "output_type": "stream",
     "text": [
      "8\n"
     ]
    }
   ],
   "source": [
    "def power(x,y):\n",
    "    if y ==0:\n",
    "        return 1 \n",
    "    else:\n",
    "        return x*power(x, y-1)\n",
    "print(power(2,3))"
   ]
  },
  {
   "cell_type": "code",
   "execution_count": 5,
   "metadata": {},
   "outputs": [
    {
     "name": "stdout",
     "output_type": "stream",
     "text": [
      "8\n"
     ]
    }
   ],
   "source": [
    "def func(**kwargs):\n",
    "    print(kwargs['zero'])\n",
    "func(a=0, zero=8)"
   ]
  },
  {
   "cell_type": "code",
   "execution_count": 10,
   "metadata": {},
   "outputs": [
    {
     "name": "stdout",
     "output_type": "stream",
     "text": [
      "120\n"
     ]
    }
   ],
   "source": [
    "def fact(n):\n",
    "    if n==0:\n",
    "        return 1\n",
    "    return n*fact(n-1)\n",
    "print(fact(5))"
   ]
  },
  {
   "cell_type": "code",
   "execution_count": 31,
   "metadata": {},
   "outputs": [
    {
     "name": "stdout",
     "output_type": "stream",
     "text": [
      "o\n",
      "l\n",
      "l\n",
      "e\n",
      "h\n"
     ]
    }
   ],
   "source": [
    "def spell(text):\n",
    "    # if len(text)==0:\n",
    "    #     return 1\n",
    "    # text = list(text)\n",
    "    print(text[-1])\n",
    "    if len(text)!=1:\n",
    "        spell(text[0:len(text)-1])\n",
    "spell('hello')"
   ]
  },
  {
   "cell_type": "markdown",
   "metadata": {},
   "source": [
    "## Inheritance\n",
    "1. Single inheritance\n",
    "2. multiple inheritance \n",
    "3. Multilevel Inheritance \n",
    "4. Hierarchical Inheritance "
   ]
  },
  {
   "cell_type": "code",
   "execution_count": 33,
   "metadata": {},
   "outputs": [
    {
     "name": "stdout",
     "output_type": "stream",
     "text": [
      "my name is khagendra and I am 23 years old male.\n",
      "my name is melina and I am 19 years old female.\n"
     ]
    }
   ],
   "source": [
    "class Person:\n",
    "    def __init__(self, name, gender, age):\n",
    "        self.name = name\n",
    "        self.gender = gender \n",
    "        self.age = age\n",
    "    def display(self):\n",
    "        return  f'my name is {self.name} and I am {self.age} years old {self.gender}.'\n",
    "class Male(Person):\n",
    "    def __init__(self, name, gender, age):\n",
    "        super().__init__( name, gender, age)  # calling constructor using super() function without self parameter.\n",
    "        \n",
    "    # def boy(self):\n",
    "    #     return f'my name is {self.name} and I am {self.age} years old {self.gender}.'\n",
    "class Female(Person):\n",
    "    def __init__(self, name ,gender, age):\n",
    "        Person.__init__(self,name, gender, age) # we also can use parent class to call constructor with self parameter.\n",
    "\n",
    "    # def girl(self):\n",
    "    #     return f'my name is {self.name} and I am {self.age} years old {self.gender}.'\n",
    "\n",
    "    \n",
    "\n",
    "m = Male('khagendra','male',23)\n",
    "f = Female('melina','female',19)\n",
    "print(m.display())\n",
    "print(f.display())\n"
   ]
  },
  {
   "cell_type": "code",
   "execution_count": 31,
   "metadata": {},
   "outputs": [
    {
     "name": "stdout",
     "output_type": "stream",
     "text": [
      "Rahul\n",
      "886012\n"
     ]
    }
   ],
   "source": [
    "# Python code to demonstrate how parent constructors\n",
    "# are called.\n",
    "\n",
    "# parent class\n",
    "class Person(object):\n",
    "\n",
    "\t# __init__ is known as the constructor\n",
    "\tdef __init__(self, name, idnumber):\n",
    "\t\tself.name = name\n",
    "\t\tself.idnumber = idnumber\n",
    "\n",
    "\tdef display(self):\n",
    "\t\tprint(self.name)\n",
    "\t\tprint(self.idnumber)\n",
    "\n",
    "# child class\n",
    "\n",
    "\n",
    "class Employee(Person):\n",
    "\tdef __init__(self, name, idnumber, salary, post):\n",
    "\t\tself.salary = salary\n",
    "\t\tself.post = post\n",
    "\n",
    "\t\t# invoking the __init__ of the parent class\n",
    "\t\tPerson.__init__(self,name, idnumber) # Person with self.\n",
    "\t\t# super().__init__(name, idnumber)\n",
    "\t# def display(self):\n",
    "\n",
    "\t# \treturn self.name, self.idnumber\n",
    "\n",
    "# creation of an object variable or an instance\n",
    "a = Employee('Rahul', 886012, 200000, \"Intern\")\n",
    "\n",
    "# calling a function of the class Person using its instance\n",
    "a.display()\n"
   ]
  },
  {
   "cell_type": "code",
   "execution_count": 26,
   "metadata": {},
   "outputs": [
    {
     "name": "stdout",
     "output_type": "stream",
     "text": [
      "Base1\n",
      "Base2\n",
      "Derived\n",
      "Geek1 Geek2\n"
     ]
    }
   ],
   "source": [
    "# Python example to show the working of multiple\n",
    "# inheritance\n",
    "\n",
    "\n",
    "class Base1(object):\n",
    "\tdef __init__(self):\n",
    "\t\tself.str1 = \"Geek1\"\n",
    "\t\tprint(\"Base1\")\n",
    "\n",
    "\n",
    "class Base2(object):\n",
    "\tdef __init__(self):\n",
    "\t\tself.str2 = \"Geek2\"\n",
    "\t\tprint(\"Base2\")\n",
    "\n",
    "\n",
    "class Derived():\n",
    "\tdef __init__(self):\n",
    "\n",
    "\t\t# Calling constructors of Base1\n",
    "\t\t# and Base2 classes\n",
    "\n",
    "\t\t# accessing variable from another class does not require to inherite parent class, \n",
    "\t\t# but needs to call cosntructor of parent class using self parameter.\n",
    "\t\tBase1.__init__(self)\n",
    "\t\tBase2.__init__(self)\n",
    "\t\tprint(\"Derived\")\n",
    "\n",
    "\tdef printStrs(self):\n",
    "\t\tprint(self.str1, self.str2)\n",
    "\n",
    "\n",
    "ob = Derived()\n",
    "ob.printStrs()\n"
   ]
  },
  {
   "cell_type": "code",
   "execution_count": null,
   "metadata": {},
   "outputs": [],
   "source": []
  }
 ],
 "metadata": {
  "kernelspec": {
   "display_name": "Python 3.10.5 64-bit",
   "language": "python",
   "name": "python3"
  },
  "language_info": {
   "codemirror_mode": {
    "name": "ipython",
    "version": 3
   },
   "file_extension": ".py",
   "mimetype": "text/x-python",
   "name": "python",
   "nbconvert_exporter": "python",
   "pygments_lexer": "ipython3",
   "version": "3.10.5"
  },
  "orig_nbformat": 4,
  "vscode": {
   "interpreter": {
    "hash": "916dbcbb3f70747c44a77c7bcd40155683ae19c65e1c03b4aa3499c5328201f1"
   }
  }
 },
 "nbformat": 4,
 "nbformat_minor": 2
}
