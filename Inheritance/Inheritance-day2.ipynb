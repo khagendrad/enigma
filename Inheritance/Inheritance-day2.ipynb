{
 "cells": [
  {
   "cell_type": "markdown",
   "metadata": {},
   "source": [
    "# 2079-03-27\n",
    "### Inheritance \n",
    "It provides reusability. there are two class concept, parent class and child class(derived class)."
   ]
  },
  {
   "cell_type": "code",
   "execution_count": 1,
   "metadata": {},
   "outputs": [],
   "source": [
    "# inheritance \n",
    "class A:\n",
    "    pass \n",
    "class B(A):\n",
    "    pass \n",
    "b = B() # b inherits from class A"
   ]
  },
  {
   "cell_type": "code",
   "execution_count": 6,
   "metadata": {},
   "outputs": [
    {
     "data": {
      "text/plain": [
       "('khagendra', 23)"
      ]
     },
     "execution_count": 6,
     "metadata": {},
     "output_type": "execute_result"
    }
   ],
   "source": [
    "class C:\n",
    "    def __init__(self):\n",
    "        self.name = 'khagendra'\n",
    "        self.age = 23\n",
    "    def display(self):\n",
    "        return self.name, self.age\n",
    "    \n",
    "class D(C):\n",
    "    def info(self):\n",
    "        data= f'hello i am {self.name} and I am {self.age}'\n",
    "        return data\n",
    "c = D()\n",
    "c.info()\n",
    "c.display()\n"
   ]
  },
  {
   "cell_type": "code",
   "execution_count": 8,
   "metadata": {},
   "outputs": [
    {
     "data": {
      "text/plain": [
       "'hello i am khagendra and I am 32'"
      ]
     },
     "execution_count": 8,
     "metadata": {},
     "output_type": "execute_result"
    }
   ],
   "source": [
    "class C:\n",
    "    def __init__(self, name, age):\n",
    "        self.name = name\n",
    "        self.age = age\n",
    "    def display(self):\n",
    "        return self.name, self.age\n",
    "    \n",
    "class D(C):\n",
    "    def info(self):\n",
    "        data= f'hello i am {self.name} and I am {self.age}'\n",
    "        return data\n",
    "c = D('khagendra', 32)\n",
    "c.info()\n",
    "# c.display()"
   ]
  },
  {
   "cell_type": "code",
   "execution_count": 11,
   "metadata": {},
   "outputs": [
    {
     "data": {
      "text/plain": [
       "'hello i am kd and I am 32 and I am male'"
      ]
     },
     "execution_count": 11,
     "metadata": {},
     "output_type": "execute_result"
    }
   ],
   "source": [
    "class C:\n",
    "    def __init__(self):\n",
    "        self.name = 'kd'\n",
    "        self.age = 32\n",
    "    def display(self):\n",
    "        return self.name, self.age\n",
    "    \n",
    "class D(C):\n",
    "    def __init__(self, gender):\n",
    "        # super().__init__()\n",
    "        # or\n",
    "        C.__init__(self)\n",
    "        self.gender = gender\n",
    "\n",
    "    def info(self):\n",
    "        data= f'hello i am {self.name} and I am {self.age} and I am {self.gender}'\n",
    "        return data\n",
    "c = D('male')\n",
    "c.info()\n",
    "# c.display()"
   ]
  },
  {
   "cell_type": "code",
   "execution_count": 18,
   "metadata": {},
   "outputs": [
    {
     "name": "stdout",
     "output_type": "stream",
     "text": [
      "hello I am ram and I am 23 years old. and I am from ktm\n"
     ]
    }
   ],
   "source": [
    "class X:\n",
    "    def __init__(self, add):\n",
    "        self.add = add\n",
    "class Y:\n",
    "    def __init__(self, name, age, add):\n",
    "        self.name = name \n",
    "        self.age  = age\n",
    "        X.__init__(self, add)\n",
    "\n",
    "    def info(self):\n",
    "        data = f'hello I am {self.name} and I am {self.age} years old. and I am from {self.add}'\n",
    "        print(data)\n",
    "x = Y(\"ram\", 23, 'ktm')\n",
    "x.info()\n"
   ]
  },
  {
   "cell_type": "code",
   "execution_count": 19,
   "metadata": {},
   "outputs": [],
   "source": [
    "# types of inheritance\n",
    "# 1. multilevel\n",
    "# 2. multiple\n",
    "\n"
   ]
  },
  {
   "cell_type": "code",
   "execution_count": 20,
   "metadata": {},
   "outputs": [],
   "source": [
    "# multilevel \n",
    "class A:\n",
    "    pass \n",
    "class B(A):\n",
    "    pass \n",
    "class C(B):\n",
    "    pass \n"
   ]
  },
  {
   "cell_type": "code",
   "execution_count": 22,
   "metadata": {},
   "outputs": [
    {
     "name": "stdout",
     "output_type": "stream",
     "text": [
      "Hello i am kd, from ktm and I am 23.\n"
     ]
    }
   ],
   "source": [
    "class A:\n",
    "    def __init__(self, add):\n",
    "        self.add = add\n",
    "class B(A):\n",
    "    def __init__(self, age,add):\n",
    "        self.age = age\n",
    "        A.__init__(self, add)\n",
    "\n",
    "class C(B):\n",
    "    def __init__(self, name, age, add):\n",
    "        self.name = name \n",
    "        B.__init__(self, age, add)\n",
    "\n",
    "    def display(self):\n",
    "        data = f'Hello i am {self.name}, from {self.add} and I am {self.age}.'\n",
    "        print(data)\n",
    "c = C('kd',23, 'ktm')\n",
    "c.display()"
   ]
  },
  {
   "cell_type": "code",
   "execution_count": 28,
   "metadata": {},
   "outputs": [
    {
     "data": {
      "text/plain": [
       "' kd, 23, ktm'"
      ]
     },
     "execution_count": 28,
     "metadata": {},
     "output_type": "execute_result"
    }
   ],
   "source": [
    "# or\n",
    "class A:\n",
    "    def __init__(self, name):\n",
    "        self.name = name \n",
    "class B(A):\n",
    "    def __init__(self, name, age):\n",
    "        super().__init__(name)\n",
    "        self.age = age\n",
    "class C(B):\n",
    "    def __init__(self, name,age, address):\n",
    "        # super().__init__(name,age)\n",
    "        # super().__init__(name, age)\n",
    "        A.__init__(self, name)\n",
    "        B.__init__(self, name, age)\n",
    "        self.addres = address\n",
    "    def display(self):\n",
    "        return f' {self.name}, {self.age}, {self.addres}'\n",
    "c = C('kd',23,'ktm')\n",
    "c.display()"
   ]
  },
  {
   "cell_type": "code",
   "execution_count": 26,
   "metadata": {},
   "outputs": [
    {
     "data": {
      "text/plain": [
       "'ram, 23, Kathmandu'"
      ]
     },
     "execution_count": 26,
     "metadata": {},
     "output_type": "execute_result"
    }
   ],
   "source": [
    "# Multiclass \n",
    "class P:\n",
    "    def __init__(self):\n",
    "        self.add= 'Kathmandu'\n",
    "class Q:\n",
    "    def __init__(self):\n",
    "        self.age = 23\n",
    "\n",
    "class R(P, Q):\n",
    "    def __init__(self):\n",
    "        self.name = 'ram'\n",
    "        P.__init__(self)\n",
    "        Q.__init__(self)\n",
    "    def display(self):\n",
    "        data  = f'{self.name}, {self.age}, {self.add}'\n",
    "        return data\n",
    "r = R()\n",
    "r.display()\n"
   ]
  },
  {
   "cell_type": "code",
   "execution_count": 29,
   "metadata": {},
   "outputs": [
    {
     "data": {
      "text/plain": [
       "'ram, 23, kathmandu'"
      ]
     },
     "execution_count": 29,
     "metadata": {},
     "output_type": "execute_result"
    }
   ],
   "source": [
    "class P:\n",
    "    def __init__(self,add):\n",
    "        self.add= add\n",
    "class Q:\n",
    "    def __init__(self,age):\n",
    "        self.age = age\n",
    "\n",
    "class R(P, Q):\n",
    "    def __init__(self,name,age,add):\n",
    "        self.name = name\n",
    "        P.__init__(self,add)\n",
    "        Q.__init__(self,age)\n",
    "    def display(self):\n",
    "        data  = f'{self.name}, {self.age}, {self.add}'\n",
    "        return data\n",
    "r = R('ram',23,'kathmandu')\n",
    "r.display()"
   ]
  },
  {
   "cell_type": "code",
   "execution_count": 8,
   "metadata": {},
   "outputs": [
    {
     "name": "stdout",
     "output_type": "stream",
     "text": [
      "Error code:  invalid literal for int() with base 10: 'f'\n"
     ]
    }
   ],
   "source": [
    "# Enter your code here. Read input from STDIN. Print output to STDOUT\n",
    "for i in range(int(input())):\n",
    "    try:\n",
    "        a,b = map(int, input().split())\n",
    "        print(a/b)\n",
    "    except Exception as e:\n",
    "        print('Error code: ', e)"
   ]
  },
  {
   "cell_type": "code",
   "execution_count": 12,
   "metadata": {},
   "outputs": [
    {
     "data": {
      "text/plain": [
       "'ram'"
      ]
     },
     "execution_count": 12,
     "metadata": {},
     "output_type": "execute_result"
    }
   ],
   "source": [
    "class P:\n",
    "    def __init__(self):\n",
    "        self.add= 'Kathmandu'\n",
    "    def names(self):\n",
    "        return self.name\n",
    "class Q:\n",
    "    def __init__(self):\n",
    "        self.age = 23\n",
    "\n",
    "class R(P, Q):\n",
    "    def __init__(self):\n",
    "        self.name = 'ram'\n",
    "        P.__init__(self)\n",
    "        Q.__init__(self)\n",
    "    def display(self):\n",
    "        data  = f'{self.name}, {self.age}, {self.add}'\n",
    "        return data\n",
    "r = R()\n",
    "r.display()\n",
    "r.names()"
   ]
  },
  {
   "cell_type": "code",
   "execution_count": 14,
   "metadata": {},
   "outputs": [
    {
     "data": {
      "text/plain": [
       "'ram, 23, kathmandu'"
      ]
     },
     "execution_count": 14,
     "metadata": {},
     "output_type": "execute_result"
    }
   ],
   "source": [
    "class P:\n",
    "    def __init__(self,add):\n",
    "        self._add= add\n",
    "class Q:\n",
    "    def __init__(self,age):\n",
    "        self._age = age\n",
    "\n",
    "class R(P, Q):\n",
    "    def __init__(self,name,age,add):\n",
    "        self.__name = name\n",
    "        P.__init__(self,add)\n",
    "        Q.__init__(self,age)\n",
    "    def display(self):\n",
    "        data  = f'{self.__name}, {self._age}, {self._add}' # accessing protected variables of class P and Q. and private variable of self class\n",
    "        return data\n",
    "r = R('ram',23,'kathmandu')\n",
    "r.display()"
   ]
  }
 ],
 "metadata": {
  "kernelspec": {
   "display_name": "Python 3.10.5 64-bit",
   "language": "python",
   "name": "python3"
  },
  "language_info": {
   "codemirror_mode": {
    "name": "ipython",
    "version": 3
   },
   "file_extension": ".py",
   "mimetype": "text/x-python",
   "name": "python",
   "nbconvert_exporter": "python",
   "pygments_lexer": "ipython3",
   "version": "3.10.5"
  },
  "orig_nbformat": 4,
  "vscode": {
   "interpreter": {
    "hash": "916dbcbb3f70747c44a77c7bcd40155683ae19c65e1c03b4aa3499c5328201f1"
   }
  }
 },
 "nbformat": 4,
 "nbformat_minor": 2
}
