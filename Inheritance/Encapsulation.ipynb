{
 "cells": [
  {
   "cell_type": "markdown",
   "metadata": {},
   "source": [
    "# 2079-03-28\n",
    "### Encapsulation \n"
   ]
  },
  {
   "cell_type": "code",
   "execution_count": 18,
   "metadata": {},
   "outputs": [
    {
     "name": "stdout",
     "output_type": "stream",
     "text": [
      "('kd', 23)\n",
      "('kd', 23, 'ktm')\n",
      "kd\n"
     ]
    }
   ],
   "source": [
    "\n",
    "# protected\n",
    "class A:\n",
    "    def __init__(self, name, age):\n",
    "        self._name = name \n",
    "        self._age = age\n",
    "    def display(self):\n",
    "        return self._name, self._age\n",
    "class B(A):\n",
    "    def __init__(self, name, age, add):\n",
    "        self._add = add\n",
    "        A.__init__(self, name, age)\n",
    "\n",
    "    def newdis(self):\n",
    "        return self._name, self._age, self._add\n",
    "b =B('kd',23, 'ktm')\n",
    "print(b.display())\n",
    "print(b.newdis())\n",
    "print(b._name)\n",
    "\n"
   ]
  },
  {
   "cell_type": "code",
   "execution_count": 21,
   "metadata": {},
   "outputs": [
    {
     "name": "stdout",
     "output_type": "stream",
     "text": [
      "('kd', 23)\n"
     ]
    }
   ],
   "source": [
    "class A:\n",
    "    def __init__(self, name, age):\n",
    "        self.__name = name \n",
    "        self.__age = age\n",
    "    def display(self):\n",
    "        return self.__name, self.__age\n",
    "class B(A):\n",
    "    def __init__(self, name, age, add):\n",
    "        self.__add = add\n",
    "        A.__init__(self, name, age)\n",
    "\n",
    "    def newdis(self):\n",
    "        return self.__name, self.__age, self.__add\n",
    "b =B('kd',23, 'ktm')\n",
    "print(b.display())\n",
    "print(b.newdis()) # accessing parent class variable not allowed\n",
    "print(b._name)"
   ]
  },
  {
   "cell_type": "code",
   "execution_count": 33,
   "metadata": {},
   "outputs": [
    {
     "name": "stdout",
     "output_type": "stream",
     "text": [
      "('kd', 23)\n",
      "kd\n"
     ]
    }
   ],
   "source": [
    "class A:\n",
    "    def __init__(self, name, age):\n",
    "        self.__name = name \n",
    "        self.__age = age\n",
    "    def display(self):\n",
    "        return self.__name, self.__age\n",
    "class B(A):\n",
    "    def __init__(self, name, age, add):\n",
    "        self.__add = add\n",
    "        A.__init__(self, name, age)\n",
    "\n",
    "    def newdis(self):\n",
    "        return self.__name, self.__age, self.__add\n",
    "b =B('kd',23, 'ktm')\n",
    "print(b.display())\n",
    "a = A('kd', 23,)\n",
    "# print(b._newdis()) # accessing parent class variable not allowed\n",
    "print(a._A__name)# accessing  variable of A publicly.\n"
   ]
  },
  {
   "cell_type": "code",
   "execution_count": 42,
   "metadata": {},
   "outputs": [
    {
     "name": "stdout",
     "output_type": "stream",
     "text": [
      "kd 34\n"
     ]
    }
   ],
   "source": [
    "# super() method\n",
    "class A:\n",
    "    def __init__(self, name, age):\n",
    "        self.name = name \n",
    "        self.age = age\n",
    "    def display(self):\n",
    "        print(self.name, self.age)\n",
    "class B(A):\n",
    "    def funcB(self):\n",
    "        super().display()\n",
    "\n",
    "b = B('kd',34)\n",
    "b.funcB()\n",
    "    "
   ]
  },
  {
   "cell_type": "code",
   "execution_count": 43,
   "metadata": {},
   "outputs": [
    {
     "name": "stdout",
     "output_type": "stream",
     "text": [
      "3, 5\n"
     ]
    }
   ],
   "source": [
    "# operator overloading \n",
    "class Point:\n",
    "    def __init__(self, x=0, y=0):\n",
    "        self.x = x\n",
    "        self.y = y\n",
    "    def __str__(self):\n",
    "        return f\"{self.x}, {self.y}\"\n",
    "    def __add__(self, other):\n",
    "        x = self.x + other.x\n",
    "        y = self.y+other.y\n",
    "        return Point(x,y)\n",
    "p1 = Point(1,2)\n",
    "p2 = Point(2,3)\n",
    "print(p1+p2)"
   ]
  },
  {
   "cell_type": "code",
   "execution_count": 47,
   "metadata": {},
   "outputs": [
    {
     "name": "stdout",
     "output_type": "stream",
     "text": [
      "3, 5, 10\n"
     ]
    }
   ],
   "source": [
    "# operator overloading \n",
    "class Point:\n",
    "    def __init__(self, x=0, y=0, z =0):\n",
    "        self.x = x\n",
    "        self.y = y\n",
    "        self.z = z\n",
    "    def __str__(self):\n",
    "        return f\"{self.x}, {self.y}, {self.z}\"\n",
    "    def __add__(self, other):\n",
    "        x = self.x + other.x\n",
    "        z = self.z+ other.z\n",
    "        y = self.y+other.y\n",
    "        return Point(x,y,z)\n",
    "p1 = Point(1,2,5)\n",
    "p2 = Point(2,3,5)\n",
    "print(p1+p2)"
   ]
  },
  {
   "cell_type": "code",
   "execution_count": null,
   "metadata": {},
   "outputs": [],
   "source": [
    "import tkinter as tk \n"
   ]
  }
 ],
 "metadata": {
  "kernelspec": {
   "display_name": "Python 3.10.5 64-bit",
   "language": "python",
   "name": "python3"
  },
  "language_info": {
   "codemirror_mode": {
    "name": "ipython",
    "version": 3
   },
   "file_extension": ".py",
   "mimetype": "text/x-python",
   "name": "python",
   "nbconvert_exporter": "python",
   "pygments_lexer": "ipython3",
   "version": "3.10.5"
  },
  "orig_nbformat": 4,
  "vscode": {
   "interpreter": {
    "hash": "916dbcbb3f70747c44a77c7bcd40155683ae19c65e1c03b4aa3499c5328201f1"
   }
  }
 },
 "nbformat": 4,
 "nbformat_minor": 2
}
